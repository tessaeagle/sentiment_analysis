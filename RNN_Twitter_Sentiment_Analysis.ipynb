{
  "nbformat": 4,
  "nbformat_minor": 0,
  "metadata": {
    "kernelspec": {
      "name": "python2",
      "display_name": "Python 2"
    },
    "colab": {
      "name": "RNN_Twitter_Sentiment_Analysis.ipynb",
      "provenance": [],
      "include_colab_link": true
    },
    "accelerator": "GPU"
  },
  "cells": [
    {
      "cell_type": "markdown",
      "metadata": {
        "id": "view-in-github",
        "colab_type": "text"
      },
      "source": [
        "<a href=\"https://colab.research.google.com/github/wilsonmui/sentiment_analysis/blob/master/RNN_Twitter_Sentiment_Analysis.ipynb\" target=\"_parent\"><img src=\"https://colab.research.google.com/assets/colab-badge.svg\" alt=\"Open In Colab\"/></a>"
      ]
    },
    {
      "cell_type": "markdown",
      "metadata": {
        "id": "nPpoC2TgtNN7",
        "colab_type": "text"
      },
      "source": [
        "# Twitter US Airline Sentiment Analysis with an RNN\n",
        "### Analyze how travelers in February 2015 expressed their feelings on Twitter\n",
        "\n",
        "In this notebook, we implement a recurrent neural network to analyze how travelers in February 2015 expressed their feelings on Twitter. Using an RNN rather than a strictly feedforward network is more accurate since we can include information about the *sequence* of words. \n",
        "\n",
        "A sentiment analysis job about the problems of each major U.S. airline. Twitter data was scraped from February of 2015 and contributors were asked to first classify positive, negative, and neutral tweets, followed by categorizing negative reasons (such as \"late flight\" or \"rude service\").\n",
        "\n",
        "In this notebook, our goal is to identify whether a tweet is negative or non-negative (positive or neutral)."
      ]
    },
    {
      "cell_type": "markdown",
      "metadata": {
        "id": "mgXtXdtFtNN-",
        "colab_type": "text"
      },
      "source": [
        "### Network Architecture\n",
        "\n",
        "The architecture for this network is shown below.\n",
        "\n",
        "<img src=\"assets/network_diagram.png\" width=40%>\n",
        "\n",
        ">**First, we'll pass in words to an embedding layer.** We need an embedding layer because we have tens of thousands of words, so we'll need a more efficient representation for our input data than one-hot encoded vectors. \n",
        "\n",
        ">**After input words are passed to an embedding layer, the new embeddings will be passed to LSTM cells.** The LSTM cells will add *recurrent* connections to the network and give us the ability to include information about the *sequence* of words in the movie review data. \n",
        "\n",
        ">**Finally, the LSTM outputs will go to a sigmoid output layer.** We're using a sigmoid function because we have two classes (0 is negative and 1 is non-negative) and a sigmoid will output predicted sentiment values between 0-1. \n",
        "\n",
        "We don't care about the sigmoid outputs except for the **very last one**; we can ignore the rest. We'll calculate the loss by comparing the output at the last time step and the training label."
      ]
    },
    {
      "cell_type": "markdown",
      "metadata": {
        "id": "VnJ8P6QttNN_",
        "colab_type": "text"
      },
      "source": [
        "---\n",
        "## Load in and visualize the data"
      ]
    },
    {
      "cell_type": "code",
      "metadata": {
        "pycharm": {
          "is_executing": false
        },
        "scrolled": true,
        "id": "xvMGglHMtNOA",
        "colab_type": "code",
        "colab": {
          "base_uri": "https://localhost:8080/",
          "height": 204
        },
        "outputId": "796ba21c-ef47-4473-ff01-da5b549826b5"
      },
      "source": [
        "import numpy as np\n",
        "import pandas as pd\n",
        "\n",
        "DATASET_COLUMNS = [\"target\", \"ids\", \"date\", \"flag\", \"user\", \"text\"]\n",
        "DATASET_ENCODING = \"ISO-8859-1\"\n",
        "\n",
        "\n",
        "data = pd.read_csv('data/large_tweet_set.csv', engine=None, encoding =DATASET_ENCODING , names=DATASET_COLUMNS)\n",
        "data.head()"
      ],
      "execution_count": 11,
      "outputs": [
        {
          "output_type": "execute_result",
          "data": {
            "text/html": [
              "<div>\n",
              "<style scoped>\n",
              "    .dataframe tbody tr th:only-of-type {\n",
              "        vertical-align: middle;\n",
              "    }\n",
              "\n",
              "    .dataframe tbody tr th {\n",
              "        vertical-align: top;\n",
              "    }\n",
              "\n",
              "    .dataframe thead th {\n",
              "        text-align: right;\n",
              "    }\n",
              "</style>\n",
              "<table border=\"1\" class=\"dataframe\">\n",
              "  <thead>\n",
              "    <tr style=\"text-align: right;\">\n",
              "      <th></th>\n",
              "      <th>target</th>\n",
              "      <th>ids</th>\n",
              "      <th>date</th>\n",
              "      <th>flag</th>\n",
              "      <th>user</th>\n",
              "      <th>text</th>\n",
              "    </tr>\n",
              "  </thead>\n",
              "  <tbody>\n",
              "    <tr>\n",
              "      <th>0</th>\n",
              "      <td>0</td>\n",
              "      <td>1467810369</td>\n",
              "      <td>Mon Apr 06 22:19:45 PDT 2009</td>\n",
              "      <td>NO_QUERY</td>\n",
              "      <td>_TheSpecialOne_</td>\n",
              "      <td>@switchfoot http://twitpic.com/2y1zl - Awww, t...</td>\n",
              "    </tr>\n",
              "    <tr>\n",
              "      <th>1</th>\n",
              "      <td>0</td>\n",
              "      <td>1467810672</td>\n",
              "      <td>Mon Apr 06 22:19:49 PDT 2009</td>\n",
              "      <td>NO_QUERY</td>\n",
              "      <td>scotthamilton</td>\n",
              "      <td>is upset that he can't update his Facebook by ...</td>\n",
              "    </tr>\n",
              "    <tr>\n",
              "      <th>2</th>\n",
              "      <td>0</td>\n",
              "      <td>1467810917</td>\n",
              "      <td>Mon Apr 06 22:19:53 PDT 2009</td>\n",
              "      <td>NO_QUERY</td>\n",
              "      <td>mattycus</td>\n",
              "      <td>@Kenichan I dived many times for the ball. Man...</td>\n",
              "    </tr>\n",
              "    <tr>\n",
              "      <th>3</th>\n",
              "      <td>0</td>\n",
              "      <td>1467811184</td>\n",
              "      <td>Mon Apr 06 22:19:57 PDT 2009</td>\n",
              "      <td>NO_QUERY</td>\n",
              "      <td>ElleCTF</td>\n",
              "      <td>my whole body feels itchy and like its on fire</td>\n",
              "    </tr>\n",
              "    <tr>\n",
              "      <th>4</th>\n",
              "      <td>0</td>\n",
              "      <td>1467811193</td>\n",
              "      <td>Mon Apr 06 22:19:57 PDT 2009</td>\n",
              "      <td>NO_QUERY</td>\n",
              "      <td>Karoli</td>\n",
              "      <td>@nationwideclass no, it's not behaving at all....</td>\n",
              "    </tr>\n",
              "  </tbody>\n",
              "</table>\n",
              "</div>"
            ],
            "text/plain": [
              "   target  ...                                               text\n",
              "0       0  ...  @switchfoot http://twitpic.com/2y1zl - Awww, t...\n",
              "1       0  ...  is upset that he can't update his Facebook by ...\n",
              "2       0  ...  @Kenichan I dived many times for the ball. Man...\n",
              "3       0  ...    my whole body feels itchy and like its on fire \n",
              "4       0  ...  @nationwideclass no, it's not behaving at all....\n",
              "\n",
              "[5 rows x 6 columns]"
            ]
          },
          "metadata": {
            "tags": []
          },
          "execution_count": 11
        }
      ]
    },
    {
      "cell_type": "code",
      "metadata": {
        "pycharm": {
          "is_executing": false
        },
        "id": "V6DDRxBXtNOE",
        "colab_type": "code",
        "colab": {}
      },
      "source": [
        "reviews = np.array(data['text'])[:500000]\n",
        "labels = np.array(data['target'])[:500000]"
      ],
      "execution_count": 0,
      "outputs": []
    },
    {
      "cell_type": "code",
      "metadata": {
        "pycharm": {
          "is_executing": false
        },
        "scrolled": true,
        "id": "0mpvcvretNOH",
        "colab_type": "code",
        "colab": {
          "base_uri": "https://localhost:8080/",
          "height": 35
        },
        "outputId": "399c451f-1973-47cf-85bb-2cc4e6944365"
      },
      "source": [
        "data['text'].loc[14639]"
      ],
      "execution_count": 13,
      "outputs": [
        {
          "output_type": "execute_result",
          "data": {
            "text/plain": [
              "u\"@stutterdude I never even noticed the ABBA shirt. I'm a lousy fan. \""
            ]
          },
          "metadata": {
            "tags": []
          },
          "execution_count": 13
        }
      ]
    },
    {
      "cell_type": "code",
      "metadata": {
        "pycharm": {
          "is_executing": false
        },
        "scrolled": true,
        "id": "Vm6_NQCctNOK",
        "colab_type": "code",
        "colab": {
          "base_uri": "https://localhost:8080/",
          "height": 35
        },
        "outputId": "229d1e55-c540-41d2-f2f4-452cba6f98ee"
      },
      "source": [
        "data['target'].loc[14639]"
      ],
      "execution_count": 14,
      "outputs": [
        {
          "output_type": "execute_result",
          "data": {
            "text/plain": [
              "0"
            ]
          },
          "metadata": {
            "tags": []
          },
          "execution_count": 14
        }
      ]
    },
    {
      "cell_type": "markdown",
      "metadata": {
        "id": "MOpTxn5vtNOM",
        "colab_type": "raw"
      },
      "source": [
        ""
      ]
    },
    {
      "cell_type": "markdown",
      "metadata": {
        "id": "L68KcjvLtNON",
        "colab_type": "text"
      },
      "source": [
        "We only use the data in the `text` and `target` column. We will be using 1,500,000 tweets"
      ]
    },
    {
      "cell_type": "code",
      "metadata": {
        "pycharm": {
          "is_executing": false
        },
        "id": "HHenUFX9tNOO",
        "colab_type": "code",
        "colab": {}
      },
      "source": [
        ""
      ],
      "execution_count": 0,
      "outputs": []
    },
    {
      "cell_type": "markdown",
      "metadata": {
        "id": "dEFm7r_8tNOQ",
        "colab_type": "text"
      },
      "source": [
        "Let's see the distribution of the airline sentiment:"
      ]
    },
    {
      "cell_type": "code",
      "metadata": {
        "pycharm": {
          "is_executing": false
        },
        "id": "Q4DMJS6ntNOR",
        "colab_type": "code",
        "colab": {
          "base_uri": "https://localhost:8080/",
          "height": 35
        },
        "outputId": "a72f71aa-26f3-47c3-fefb-a430a3c5bbc4"
      },
      "source": [
        "from collections import Counter\n",
        "\n",
        "Counter(labels)"
      ],
      "execution_count": 15,
      "outputs": [
        {
          "output_type": "execute_result",
          "data": {
            "text/plain": [
              "Counter({0: 500000})"
            ]
          },
          "metadata": {
            "tags": []
          },
          "execution_count": 15
        }
      ]
    },
    {
      "cell_type": "markdown",
      "metadata": {
        "id": "aO4FldcktNOT",
        "colab_type": "text"
      },
      "source": [
        "---\n",
        "## Data pre-processing\n",
        "The first step when building a neural network model is getting the data into the proper form to feed into the network. Since we're using embedding layers, we'll need to encode each word with an integer. We'll also want to clean it up a bit.\n",
        "\n",
        "Here are the processing steps, we'll want to take:\n",
        ">* We'll want to get rid of periods and extraneous punctuation.\n",
        "* We'll want to remove web address, twitter id, and digit. \n",
        "\n",
        "First, let's remove all punctuation. Then get all the text without the newlines and split it into individual words."
      ]
    },
    {
      "cell_type": "code",
      "metadata": {
        "pycharm": {
          "is_executing": false
        },
        "id": "5irLVSuatNOT",
        "colab_type": "code",
        "colab": {}
      },
      "source": [
        "punctuation = '!\"#$%&\\'()*+,-./:;<=>?[\\\\]^_`{|}~'\n",
        "\n",
        "# get rid of punctuation\n",
        "all_reviews = 'separator'.join(reviews)\n",
        "all_reviews = all_reviews.lower()\n",
        "all_text = ''.join([c for c in all_reviews if c not in punctuation])\n",
        "\n",
        "# split by new lines and spaces\n",
        "reviews_split = all_text.split('separator')\n",
        "all_text = ' '.join(reviews_split)\n",
        "\n",
        "# create a list of words\n",
        "words = all_text.split()"
      ],
      "execution_count": 0,
      "outputs": []
    },
    {
      "cell_type": "markdown",
      "metadata": {
        "id": "BewC03GbtNOV",
        "colab_type": "text"
      },
      "source": [
        "Then, we remove web address, twitter id, and digit."
      ]
    },
    {
      "cell_type": "code",
      "metadata": {
        "pycharm": {
          "is_executing": false
        },
        "id": "aq0sLSGytNOW",
        "colab_type": "code",
        "colab": {}
      },
      "source": [
        "# get rid of web address, twitter id, and digit\n",
        "new_reviews = []\n",
        "for review in reviews_split:\n",
        "    review = review.split()\n",
        "    new_text = []\n",
        "    for word in review:\n",
        "        if (word[0] != '@') & ('http' not in word) & (~word.isdigit()):\n",
        "            new_text.append(word)\n",
        "    new_reviews.append(new_text)"
      ],
      "execution_count": 0,
      "outputs": []
    },
    {
      "cell_type": "markdown",
      "metadata": {
        "id": "JWGchkkLtNOY",
        "colab_type": "text"
      },
      "source": [
        "### Encoding the words\n",
        "The embedding lookup requires that we pass in integers to our network. The easiest way to do this is to create dictionaries that map the words in the vocabulary to integers. Then, we can convert each of our reviews into integers so they can be passed into the network."
      ]
    },
    {
      "cell_type": "code",
      "metadata": {
        "pycharm": {
          "is_executing": false
        },
        "id": "PFO_-hjvtNOZ",
        "colab_type": "code",
        "colab": {}
      },
      "source": [
        "## Build a dictionary that maps words to integers\n",
        "counts = Counter(words)\n",
        "vocab = sorted(counts, key=counts.get, reverse=True)\n",
        "vocab_to_int = {word: ii for ii, word in enumerate(vocab, 1)}\n",
        "\n",
        "## use the dict to tokenize each review in reviews_split\n",
        "## store the tokenized reviews in reviews_ints\n",
        "reviews_ints = []\n",
        "for review in new_reviews:\n",
        "    reviews_ints.append([vocab_to_int[word] for word in review])"
      ],
      "execution_count": 0,
      "outputs": []
    },
    {
      "cell_type": "markdown",
      "metadata": {
        "id": "c9rXwrZEtNOb",
        "colab_type": "text"
      },
      "source": [
        "Let's print out the number of unique words in the vocabulary and the contents of the first, tokenized review."
      ]
    },
    {
      "cell_type": "code",
      "metadata": {
        "pycharm": {
          "is_executing": false
        },
        "scrolled": true,
        "id": "rmRozcS0tNOc",
        "colab_type": "code",
        "colab": {
          "base_uri": "https://localhost:8080/",
          "height": 71
        },
        "outputId": "a59fd90d-861a-485a-d219-a5fea54d23a1"
      },
      "source": [
        "# stats about vocabulary\n",
        "print('Unique words: ', len((vocab_to_int)))  # should ~ 74000+\n",
        "print()\n",
        "\n",
        "# print tokens in first review\n",
        "print('Tokenized review: \\n', reviews_ints[:1])"
      ],
      "execution_count": 20,
      "outputs": [
        {
          "output_type": "stream",
          "text": [
            "('Unique words: ', 321276)\n",
            "()\n",
            "('Tokenized review: \\n', [[403, 122, 5, 823, 13, 2638, 46, 814, 10364, 12, 1834, 39, 2, 42, 8, 494]])\n"
          ],
          "name": "stdout"
        }
      ]
    },
    {
      "cell_type": "markdown",
      "metadata": {
        "id": "76Zp-ECttNOe",
        "colab_type": "text"
      },
      "source": [
        "### Encoding the labels\n",
        "As mentioned before, our goal is to identify whether a tweet is negative or non-negative (positive or neutral). Our labels are \"positive\", \"negative\", or \"neutral. To use these labels in our network, we need to convert them to 0 and 1. "
      ]
    },
    {
      "cell_type": "code",
      "metadata": {
        "pycharm": {
          "is_executing": false
        },
        "id": "VtKX_zyBtNOf",
        "colab_type": "code",
        "colab": {
          "base_uri": "https://localhost:8080/",
          "height": 53
        },
        "outputId": "1f0bbc7b-0012-4747-b4fb-ea2d8899d11d"
      },
      "source": [
        "# 1=positive, 1=neutral, 0=negative label conversion\n",
        "print('test')\n",
        "encoded_labels = []\n",
        "for label in labels:\n",
        "    if label == '4':\n",
        "        encoded_labels.append(1)\n",
        "    else:\n",
        "        encoded_labels.append(0)\n",
        "    # else:\n",
        "    #    encoded_labels.append(1)\n",
        "\n",
        "encoded_labels = np.asarray(encoded_labels)\n",
        "\n",
        "print(len(encoded_labels))"
      ],
      "execution_count": 21,
      "outputs": [
        {
          "output_type": "stream",
          "text": [
            "test\n",
            "500000\n"
          ],
          "name": "stdout"
        }
      ]
    },
    {
      "cell_type": "code",
      "metadata": {
        "id": "gerC2DYitNOh",
        "colab_type": "code",
        "colab": {}
      },
      "source": [
        ""
      ],
      "execution_count": 0,
      "outputs": []
    },
    {
      "cell_type": "markdown",
      "metadata": {
        "id": "fLcqWYpRtNOl",
        "colab_type": "text"
      },
      "source": [
        "### Padding sequences\n",
        "To deal with both short and very long reviews, we'll pad or truncate all our reviews to a specific length. For reviews shorter than some `seq_length`, we'll pad with 0s. For reviews longer than `seq_length`, we can truncate them to the first `seq_length` words. A good `seq_length`, in this case, is 30, because the maximum review length from the data is 32.  "
      ]
    },
    {
      "cell_type": "code",
      "metadata": {
        "pycharm": {
          "is_executing": false
        },
        "id": "mt4IAiIetNOl",
        "colab_type": "code",
        "colab": {}
      },
      "source": [
        "def pad_features(reviews_ints, seq_length):\n",
        "    ''' Return features of review_ints, where each review is padded with 0's \n",
        "        or truncated to the input seq_length.\n",
        "    '''\n",
        "    \n",
        "    # getting the correct rows x cols shape\n",
        "    features = np.zeros((len(reviews_ints), seq_length), dtype=int)\n",
        "\n",
        "    # for each review, I grab that review and \n",
        "    for i, row in enumerate(reviews_ints):\n",
        "        if len(np.array(row)[:seq_length]) != 0:\n",
        "            features[i, -len(row):] = np.array(row)[:seq_length]\n",
        "    \n",
        "    return features"
      ],
      "execution_count": 0,
      "outputs": []
    },
    {
      "cell_type": "code",
      "metadata": {
        "pycharm": {
          "is_executing": false
        },
        "scrolled": false,
        "id": "VaLWOQ2GtNOn",
        "colab_type": "code",
        "colab": {
          "base_uri": "https://localhost:8080/",
          "height": 197
        },
        "outputId": "eb6b87f9-c674-4e0b-c5d8-e86ce9fcb45f"
      },
      "source": [
        "# Test implementation!\n",
        "\n",
        "seq_length = 30\n",
        "\n",
        "features = pad_features(reviews_ints, seq_length=seq_length)\n",
        "\n",
        "## test statements \n",
        "assert len(features)==len(reviews_ints), \"The features should have as many rows as reviews.\"\n",
        "assert len(features[0])==seq_length, \"Each feature row should contain seq_length values.\"\n",
        "\n",
        "# print first 10 values of the first 30 batches \n",
        "print(features[:10,:10])"
      ],
      "execution_count": 23,
      "outputs": [
        {
          "output_type": "stream",
          "text": [
            "[[0 0 0 0 0 0 0 0 0 0]\n",
            " [0 0 0 0 0 0 0 0 0 7]\n",
            " [0 0 0 0 0 0 0 0 0 0]\n",
            " [0 0 0 0 0 0 0 0 0 0]\n",
            " [0 0 0 0 0 0 0 0 0 0]\n",
            " [0 0 0 0 0 0 0 0 0 0]\n",
            " [0 0 0 0 0 0 0 0 0 0]\n",
            " [0 0 0 0 0 0 0 0 0 0]\n",
            " [0 0 0 0 0 0 0 0 0 0]\n",
            " [0 0 0 0 0 0 0 0 0 0]]\n"
          ],
          "name": "stdout"
        }
      ]
    },
    {
      "cell_type": "markdown",
      "metadata": {
        "id": "UYeaPQX5tNOp",
        "colab_type": "text"
      },
      "source": [
        "---\n",
        "## Training, validation, and test\n",
        "With our data in nice shape, we'll split it into training, validation, and test sets."
      ]
    },
    {
      "cell_type": "code",
      "metadata": {
        "pycharm": {
          "is_executing": false
        },
        "id": "D0NjyI_6tNOq",
        "colab_type": "code",
        "colab": {
          "base_uri": "https://localhost:8080/",
          "height": 71
        },
        "outputId": "812428a1-3296-4f98-9cba-bce374102217"
      },
      "source": [
        "split_frac = 0.8\n",
        "\n",
        "## split data into training, validation, and test data (features and labels, x and y)\n",
        "print('num encoded labels: ' + str(len(encoded_labels)))\n",
        "split_idx = int(len(features)*split_frac)\n",
        "train_x, remaining_x = features[:split_idx], features[split_idx:]\n",
        "train_y, remaining_y = encoded_labels[:split_idx], encoded_labels[split_idx:]\n",
        "\n",
        "test_idx = int(len(remaining_x)*0.5)\n",
        "val_x, test_x = remaining_x[:test_idx], remaining_x[test_idx:test_idx+149996]\n",
        "val_y, test_y = remaining_y[:test_idx], remaining_y[test_idx:test_idx+149996]\n",
        "\n",
        "\n",
        "\n",
        "## print out the shapes of the resultant feature data\n",
        "print(\"\\t\\t\\tFeature Shapes:\")\n",
        "print(\"Train set: \\t\\t{}\".format(train_x.shape),\n",
        "      \"Label set: \\t\\t{}\".format(train_y.shape),\n",
        "      \"\\nValidation set: \\t{}\".format(val_x.shape),\n",
        "      \"\\nTest set: \\t\\t{}\".format(test_x.shape))"
      ],
      "execution_count": 24,
      "outputs": [
        {
          "output_type": "stream",
          "text": [
            "num encoded labels: 500000\n",
            "\t\t\tFeature Shapes:\n",
            "('Train set: \\t\\t(400000, 30)', 'Label set: \\t\\t(400000,)', '\\nValidation set: \\t(50000, 30)', '\\nTest set: \\t\\t(50000, 30)')\n"
          ],
          "name": "stdout"
        }
      ]
    },
    {
      "cell_type": "markdown",
      "metadata": {
        "id": "B4mQUUIXtNOs",
        "colab_type": "text"
      },
      "source": [
        "### DataLoaders and Batching\n",
        "After creating training, test, and validation data, we can create DataLoaders for this data by following two steps:\n",
        "1. Create a known format for accessing our data, using [TensorDataset](https://pytorch.org/docs/stable/data.html#) which takes in an input set of data and a target set of data with the same first dimension, and creates a dataset.\n",
        "2. Create DataLoaders and batch our training, validation, and test Tensor datasets."
      ]
    },
    {
      "cell_type": "code",
      "metadata": {
        "pycharm": {
          "is_executing": false
        },
        "id": "sVWyH1rDtNOs",
        "colab_type": "code",
        "colab": {
          "base_uri": "https://localhost:8080/",
          "height": 53
        },
        "outputId": "f33df9e7-5db4-4154-9016-0dd3d3301f37"
      },
      "source": [
        "import torch\n",
        "from torch.utils.data import TensorDataset, DataLoader\n",
        "print(len(test_x))\n",
        "print(len(test_y))\n",
        "# create Tensor datasets\n",
        "train_data = TensorDataset(torch.from_numpy(train_x), torch.from_numpy(train_y))\n",
        "valid_data = TensorDataset(torch.from_numpy(val_x), torch.from_numpy(val_y))\n",
        "test_data = TensorDataset(torch.from_numpy(test_x), torch.from_numpy(test_y))\n",
        "\n",
        "# dataloaders\n",
        "batch_size = 50\n",
        "\n",
        "# make sure the SHUFFLE the training data\n",
        "train_loader = DataLoader(train_data, shuffle=True, batch_size=batch_size)\n",
        "valid_loader = DataLoader(valid_data, shuffle=True, batch_size=batch_size)\n",
        "test_loader = DataLoader(test_data, shuffle=True, batch_size=batch_size)"
      ],
      "execution_count": 25,
      "outputs": [
        {
          "output_type": "stream",
          "text": [
            "50000\n",
            "50000\n"
          ],
          "name": "stdout"
        }
      ]
    },
    {
      "cell_type": "code",
      "metadata": {
        "pycharm": {
          "is_executing": false
        },
        "id": "20smM6r0tNOu",
        "colab_type": "code",
        "colab": {
          "base_uri": "https://localhost:8080/",
          "height": 251
        },
        "outputId": "9a8cf12a-6076-4cce-94a3-30a9065eabf7"
      },
      "source": [
        "# obtain one batch of training data\n",
        "dataiter = iter(train_loader)\n",
        "sample_x, sample_y = dataiter.next()\n",
        "\n",
        "print('Sample input size: ', sample_x.size()) # batch_size, seq_length\n",
        "print('Sample input: \\n', sample_x)\n",
        "print()\n",
        "print('Sample label size: ', sample_y.size()) # batch_size\n",
        "print('Sample label: \\n', sample_y)"
      ],
      "execution_count": 26,
      "outputs": [
        {
          "output_type": "stream",
          "text": [
            "('Sample input size: ', torch.Size([50, 30]))\n",
            "('Sample input: \\n', tensor([[     0,      0,      0,  ...,   7720,    249, 297579],\n",
            "        [     0,      0,      0,  ...,   2044,      6,   2148],\n",
            "        [     0,      0,      0,  ...,    810,    293,    792],\n",
            "        ...,\n",
            "        [     0,      0,      0,  ...,    265,    143,     36],\n",
            "        [     0,      0,      0,  ...,      7,    554,    316],\n",
            "        [     0,      0,      0,  ...,     19,    143,     66]]))\n",
            "()\n",
            "('Sample label size: ', torch.Size([50]))\n",
            "('Sample label: \\n', tensor([0, 0, 0, 0, 0, 0, 0, 0, 0, 0, 0, 0, 0, 0, 0, 0, 0, 0, 0, 0, 0, 0, 0, 0,\n",
            "        0, 0, 0, 0, 0, 0, 0, 0, 0, 0, 0, 0, 0, 0, 0, 0, 0, 0, 0, 0, 0, 0, 0, 0,\n",
            "        0, 0]))\n"
          ],
          "name": "stdout"
        }
      ]
    },
    {
      "cell_type": "markdown",
      "metadata": {
        "id": "WfrjGzSRtNOw",
        "colab_type": "text"
      },
      "source": [
        "---\n",
        "## Sentiment Network with PyTorch\n",
        "Below is where we'll define the network.\n",
        "\n",
        "<img src=\"assets/network_diagram.png\" width=40%>\n",
        "\n",
        "The layers are as follows:\n",
        "1. An [embedding layer](https://pytorch.org/docs/stable/nn.html#embedding) that converts our word tokens (integers) into embeddings of a specific size.\n",
        "2. An [LSTM layer](https://pytorch.org/docs/stable/nn.html#lstm) defined by a hidden_state size and number of layers\n",
        "3. A fully-connected output layer that maps the LSTM layer outputs to a desired output_size\n",
        "4. A sigmoid activation layer which turns all outputs into a value 0-1; return **only the last sigmoid output** as the output of this network.\n",
        "\n",
        "### The Embedding Layer\n",
        "\n",
        "We need to add an [embedding layer](https://pytorch.org/docs/stable/nn.html#embedding) because there are 16500+ words in our vocabulary. It is massively inefficient to one-hot encode that many classes. So, instead of one-hot encoding, we can have an embedding layer and use that layer as a lookup table. \n",
        "\n",
        "\n",
        "### The LSTM Layer(s)\n",
        "\n",
        "We'll create an [LSTM](https://pytorch.org/docs/stable/nn.html#lstm) to use in our recurrent network, which takes in an input_size, a hidden_dim, a number of layers, a dropout probability (for dropout between multiple layers), and a batch_first parameter.\n",
        "\n",
        "Most of the time, the network will have better performance with more layers; between 2-3. Adding more layers allows the network to learn really complex relationships.\n",
        "\n",
        "Note: `init_hidden` should initialize the hidden and cell state of an lstm layer to all zeros, and move those state to GPU, if available."
      ]
    },
    {
      "cell_type": "code",
      "metadata": {
        "pycharm": {
          "is_executing": false
        },
        "id": "-R1nCUvetNOw",
        "colab_type": "code",
        "colab": {
          "base_uri": "https://localhost:8080/",
          "height": 35
        },
        "outputId": "e69c6a68-8c29-469f-b2d2-fce0f48f4be2"
      },
      "source": [
        "# First checking if GPU is available\n",
        "train_on_gpu=torch.cuda.is_available()\n",
        "\n",
        "if(train_on_gpu):\n",
        "    print('Training on GPU.')\n",
        "else:\n",
        "    print('No GPU available, training on CPU.')"
      ],
      "execution_count": 27,
      "outputs": [
        {
          "output_type": "stream",
          "text": [
            "Training on GPU.\n"
          ],
          "name": "stdout"
        }
      ]
    },
    {
      "cell_type": "code",
      "metadata": {
        "pycharm": {
          "is_executing": false
        },
        "id": "EO_qURZ7tNOz",
        "colab_type": "code",
        "colab": {}
      },
      "source": [
        "import torch.nn as nn\n",
        "\n",
        "class SentimentRNN(nn.Module):\n",
        "    \"\"\"\n",
        "    The RNN model that will be used to perform Sentiment analysis.\n",
        "    \"\"\"\n",
        "\n",
        "    def __init__(self, vocab_size, output_size, embedding_dim, hidden_dim, n_layers, drop_prob=0.5):\n",
        "        \"\"\"\n",
        "        Initialize the model by setting up the layers.\n",
        "        \"\"\"\n",
        "        super(SentimentRNN, self).__init__()\n",
        "\n",
        "        self.output_size = output_size\n",
        "        self.n_layers = n_layers\n",
        "        self.hidden_dim = hidden_dim\n",
        "        \n",
        "        # embedding and LSTM layers\n",
        "        self.embedding = nn.Embedding(vocab_size, embedding_dim)\n",
        "        self.lstm = nn.LSTM(embedding_dim, hidden_dim, n_layers, \n",
        "                            dropout=drop_prob, batch_first=True)\n",
        "        \n",
        "        # dropout layer\n",
        "        self.dropout = nn.Dropout(0.3)\n",
        "        \n",
        "        # linear and sigmoid layers\n",
        "        self.fc = nn.Linear(hidden_dim, output_size)\n",
        "        self.sig = nn.Sigmoid()\n",
        "        \n",
        "\n",
        "    def forward(self, x, hidden):\n",
        "        \"\"\"\n",
        "        Perform a forward pass of our model on some input and hidden state.\n",
        "        \"\"\"\n",
        "        batch_size = x.size(0)\n",
        "\n",
        "        # embeddings and lstm_out\n",
        "        x = x.long()\n",
        "        embeds = self.embedding(x)\n",
        "        lstm_out, hidden = self.lstm(embeds, hidden)\n",
        "    \n",
        "        # stack up lstm outputs\n",
        "        lstm_out = lstm_out.contiguous().view(-1, self.hidden_dim)\n",
        "        \n",
        "        # dropout and fully-connected layer\n",
        "        out = self.dropout(lstm_out)\n",
        "        out = self.fc(out)\n",
        "        # sigmoid function\n",
        "        sig_out = self.sig(out)\n",
        "        \n",
        "        # reshape to be batch_size first\n",
        "        sig_out = sig_out.view(batch_size, -1)\n",
        "        sig_out = sig_out[:, -1] # get last batch of labels\n",
        "        \n",
        "        # return last sigmoid output and hidden state\n",
        "        return sig_out, hidden\n",
        "    \n",
        "    \n",
        "    def init_hidden(self, batch_size):\n",
        "        ''' Initializes hidden state '''\n",
        "        # Create two new tensors with sizes n_layers x batch_size x hidden_dim,\n",
        "        # initialized to zero, for hidden state and cell state of LSTM\n",
        "        weight = next(self.parameters()).data\n",
        "        \n",
        "        if (train_on_gpu):\n",
        "            hidden = (weight.new(self.n_layers, batch_size, self.hidden_dim).zero_().cuda(),\n",
        "                  weight.new(self.n_layers, batch_size, self.hidden_dim).zero_().cuda())\n",
        "        else:\n",
        "            hidden = (weight.new(self.n_layers, batch_size, self.hidden_dim).zero_(),\n",
        "                      weight.new(self.n_layers, batch_size, self.hidden_dim).zero_())\n",
        "        \n",
        "        return hidden"
      ],
      "execution_count": 0,
      "outputs": []
    },
    {
      "cell_type": "markdown",
      "metadata": {
        "id": "THOqEcgXtNO1",
        "colab_type": "text"
      },
      "source": [
        "### Instantiate the network\n",
        "Here, we'll instantiate the network. First up, defining the hyperparameters.\n",
        "\n",
        "* `vocab_size`: Size of our vocabulary or the range of values for our input, word tokens.\n",
        "* `output_size`: Size of our desired output; the number of class scores we want to output (negative/non-negative).\n",
        "* `embedding_dim`: Number of columns in the embedding lookup table; size of our embeddings.\n",
        "* `hidden_dim`: Number of units in the hidden layers of our LSTM cells. Usually larger is better performance wise. Common values are 128, 256, 512, etc.\n",
        "* `n_layers`: Number of LSTM layers in the network. Typically between 1-3."
      ]
    },
    {
      "cell_type": "code",
      "metadata": {
        "pycharm": {
          "is_executing": false
        },
        "id": "0J5PjrX3tNO1",
        "colab_type": "code",
        "colab": {
          "base_uri": "https://localhost:8080/",
          "height": 143
        },
        "outputId": "56ef3ed3-8200-43ee-9839-79f8bc647268"
      },
      "source": [
        "# Instantiate the model w/ hyperparams\n",
        "vocab_size = len(vocab_to_int)+1 # +1 for the 0 padding + our word tokens\n",
        "output_size = 1\n",
        "embedding_dim = 200\n",
        "hidden_dim = 128\n",
        "n_layers = 2\n",
        "\n",
        "net = SentimentRNN(vocab_size, output_size, embedding_dim, hidden_dim, n_layers)\n",
        "\n",
        "print(net)"
      ],
      "execution_count": 29,
      "outputs": [
        {
          "output_type": "stream",
          "text": [
            "SentimentRNN(\n",
            "  (embedding): Embedding(321277, 200)\n",
            "  (lstm): LSTM(200, 128, num_layers=2, batch_first=True, dropout=0.5)\n",
            "  (dropout): Dropout(p=0.3, inplace=False)\n",
            "  (fc): Linear(in_features=128, out_features=1, bias=True)\n",
            "  (sig): Sigmoid()\n",
            ")\n"
          ],
          "name": "stdout"
        }
      ]
    },
    {
      "cell_type": "markdown",
      "metadata": {
        "id": "sTxUS9B2tNO3",
        "colab_type": "text"
      },
      "source": [
        "### Training\n",
        "\n",
        "Below is the typical training code. We'll use a cross entropy loss, which is designed to work with a single Sigmoid output. [BCELoss](https://pytorch.org/docs/stable/nn.html#bceloss), or **Binary Cross Entropy Loss**, applies cross entropy loss to a single value between 0 and 1. We also have some data and training hyparameters:\n",
        "\n",
        "* `lr`: Learning rate for our optimizer.\n",
        "* `epochs`: Number of times to iterate through the training dataset.\n",
        "* `clip`: The maximum gradient value to clip at (to prevent exploding gradients)."
      ]
    },
    {
      "cell_type": "code",
      "metadata": {
        "pycharm": {
          "is_executing": false
        },
        "id": "VwnXfQAltNO4",
        "colab_type": "code",
        "colab": {}
      },
      "source": [
        "# loss and optimization functions\n",
        "lr=0.001\n",
        "\n",
        "criterion = nn.BCELoss()\n",
        "optimizer = torch.optim.Adam(net.parameters(), lr=lr)"
      ],
      "execution_count": 0,
      "outputs": []
    },
    {
      "cell_type": "code",
      "metadata": {
        "pycharm": {
          "is_executing": false
        },
        "id": "ORplc4bDtNO6",
        "colab_type": "code",
        "colab": {
          "base_uri": "https://localhost:8080/",
          "height": 1000
        },
        "outputId": "9584f49a-ff2c-4282-c1e2-9a44b8c94555"
      },
      "source": [
        "# training params\n",
        "\n",
        "epochs = 10 \n",
        "\n",
        "counter = 0\n",
        "print_every = 100\n",
        "clip=5 # gradient clipping\n",
        "\n",
        "# move model to GPU, if available\n",
        "if(train_on_gpu):\n",
        "    net.cuda()\n",
        "\n",
        "net.train()\n",
        "# train for some number of epochs\n",
        "for e in range(epochs):\n",
        "    # initialize hidden state\n",
        "    h = net.init_hidden(batch_size)\n",
        "\n",
        "    # batch loop\n",
        "    for inputs, labels in train_loader:\n",
        "        counter += 1\n",
        "\n",
        "        if(train_on_gpu):\n",
        "            inputs, labels = inputs.cuda(), labels.cuda()\n",
        "\n",
        "        # Creating new variables for the hidden state, otherwise\n",
        "        # we'd backprop through the entire training history\n",
        "        h = tuple([each.data for each in h])\n",
        "\n",
        "        # zero accumulated gradients\n",
        "        net.zero_grad()\n",
        "\n",
        "        # get the output from the model\n",
        "        output, h = net(inputs, h)\n",
        "\n",
        "        # calculate the loss and perform backprop\n",
        "        loss = criterion(output.squeeze(), labels.float())\n",
        "        loss.backward()\n",
        "        # `clip_grad_norm` helps prevent the exploding gradient problem in RNNs / LSTMs.\n",
        "        nn.utils.clip_grad_norm_(net.parameters(), clip)\n",
        "        optimizer.step()\n",
        "\n",
        "        # loss stats\n",
        "        if counter % print_every == 0:\n",
        "            # Get validation loss\n",
        "            val_h = net.init_hidden(batch_size)\n",
        "            val_losses = []\n",
        "            net.eval()\n",
        "            for inputs, labels in valid_loader:\n",
        "\n",
        "                # Creating new variables for the hidden state, otherwise\n",
        "                # we'd backprop through the entire training history\n",
        "                val_h = tuple([each.data for each in val_h])\n",
        "\n",
        "                if(train_on_gpu):\n",
        "                    inputs, labels = inputs.cuda(), labels.cuda()\n",
        "\n",
        "                output, val_h = net(inputs, val_h)\n",
        "                val_loss = criterion(output.squeeze(), labels.float())\n",
        "\n",
        "                val_losses.append(val_loss.item())\n",
        "\n",
        "            net.train()\n",
        "            print(\"Epoch: {}/{}...\".format(e+1, epochs),\n",
        "                  \"Step: {}...\".format(counter),\n",
        "                  \"Loss: {:.6f}...\".format(loss.item()),\n",
        "                  \"Val Loss: {:.6f}\".format(np.mean(val_losses)))"
      ],
      "execution_count": 0,
      "outputs": [
        {
          "output_type": "stream",
          "text": [
            "('Epoch: 1/10...', 'Step: 100...', 'Loss: 0.000530...', 'Val Loss: 0.000381')\n",
            "('Epoch: 1/10...', 'Step: 200...', 'Loss: 0.000251...', 'Val Loss: 0.000210')\n",
            "('Epoch: 1/10...', 'Step: 300...', 'Loss: 0.000165...', 'Val Loss: 0.000132')\n",
            "('Epoch: 1/10...', 'Step: 400...', 'Loss: 0.000118...', 'Val Loss: 0.000091')\n",
            "('Epoch: 1/10...', 'Step: 500...', 'Loss: 0.000084...', 'Val Loss: 0.000067')\n",
            "('Epoch: 1/10...', 'Step: 600...', 'Loss: 0.000060...', 'Val Loss: 0.000051')\n",
            "('Epoch: 1/10...', 'Step: 700...', 'Loss: 0.000049...', 'Val Loss: 0.000040')\n",
            "('Epoch: 1/10...', 'Step: 800...', 'Loss: 0.000046...', 'Val Loss: 0.000032')\n",
            "('Epoch: 1/10...', 'Step: 900...', 'Loss: 0.000035...', 'Val Loss: 0.000027')\n",
            "('Epoch: 1/10...', 'Step: 1000...', 'Loss: 0.000027...', 'Val Loss: 0.000023')\n",
            "('Epoch: 1/10...', 'Step: 1100...', 'Loss: 0.000026...', 'Val Loss: 0.000019')\n",
            "('Epoch: 1/10...', 'Step: 1200...', 'Loss: 0.000021...', 'Val Loss: 0.000017')\n",
            "('Epoch: 1/10...', 'Step: 1300...', 'Loss: 0.000020...', 'Val Loss: 0.000015')\n",
            "('Epoch: 1/10...', 'Step: 1400...', 'Loss: 0.000017...', 'Val Loss: 0.000013')\n",
            "('Epoch: 1/10...', 'Step: 1500...', 'Loss: 0.000013...', 'Val Loss: 0.000011')\n",
            "('Epoch: 1/10...', 'Step: 1600...', 'Loss: 0.000014...', 'Val Loss: 0.000010')\n",
            "('Epoch: 1/10...', 'Step: 1700...', 'Loss: 0.000017...', 'Val Loss: 0.000009')\n",
            "('Epoch: 1/10...', 'Step: 1800...', 'Loss: 0.000013...', 'Val Loss: 0.000008')\n",
            "('Epoch: 1/10...', 'Step: 1900...', 'Loss: 0.000013...', 'Val Loss: 0.000007')\n",
            "('Epoch: 1/10...', 'Step: 2000...', 'Loss: 0.000009...', 'Val Loss: 0.000007')\n",
            "('Epoch: 1/10...', 'Step: 2100...', 'Loss: 0.000008...', 'Val Loss: 0.000006')\n",
            "('Epoch: 1/10...', 'Step: 2200...', 'Loss: 0.000012...', 'Val Loss: 0.000006')\n",
            "('Epoch: 1/10...', 'Step: 2300...', 'Loss: 0.000009...', 'Val Loss: 0.000005')\n",
            "('Epoch: 1/10...', 'Step: 2400...', 'Loss: 0.000004...', 'Val Loss: 0.000005')\n",
            "('Epoch: 1/10...', 'Step: 2500...', 'Loss: 0.000005...', 'Val Loss: 0.000004')\n",
            "('Epoch: 1/10...', 'Step: 2600...', 'Loss: 0.000006...', 'Val Loss: 0.000004')\n",
            "('Epoch: 1/10...', 'Step: 2700...', 'Loss: 0.000005...', 'Val Loss: 0.000004')\n",
            "('Epoch: 1/10...', 'Step: 2800...', 'Loss: 0.000004...', 'Val Loss: 0.000003')\n",
            "('Epoch: 1/10...', 'Step: 2900...', 'Loss: 0.000004...', 'Val Loss: 0.000003')\n",
            "('Epoch: 1/10...', 'Step: 3000...', 'Loss: 0.000004...', 'Val Loss: 0.000003')\n",
            "('Epoch: 1/10...', 'Step: 3100...', 'Loss: 0.000004...', 'Val Loss: 0.000003')\n",
            "('Epoch: 1/10...', 'Step: 3200...', 'Loss: 0.000004...', 'Val Loss: 0.000002')\n",
            "('Epoch: 1/10...', 'Step: 3300...', 'Loss: 0.000003...', 'Val Loss: 0.000002')\n",
            "('Epoch: 1/10...', 'Step: 3400...', 'Loss: 0.000003...', 'Val Loss: 0.000002')\n",
            "('Epoch: 1/10...', 'Step: 3500...', 'Loss: 0.000003...', 'Val Loss: 0.000002')\n",
            "('Epoch: 1/10...', 'Step: 3600...', 'Loss: 0.000003...', 'Val Loss: 0.000002')\n",
            "('Epoch: 1/10...', 'Step: 3700...', 'Loss: 0.000003...', 'Val Loss: 0.000002')\n",
            "('Epoch: 1/10...', 'Step: 3800...', 'Loss: 0.000003...', 'Val Loss: 0.000002')\n",
            "('Epoch: 1/10...', 'Step: 3900...', 'Loss: 0.000003...', 'Val Loss: 0.000002')\n",
            "('Epoch: 1/10...', 'Step: 4000...', 'Loss: 0.000002...', 'Val Loss: 0.000001')\n",
            "('Epoch: 1/10...', 'Step: 4100...', 'Loss: 0.000002...', 'Val Loss: 0.000001')\n",
            "('Epoch: 1/10...', 'Step: 4200...', 'Loss: 0.000002...', 'Val Loss: 0.000001')\n",
            "('Epoch: 1/10...', 'Step: 4300...', 'Loss: 0.000001...', 'Val Loss: 0.000001')\n",
            "('Epoch: 1/10...', 'Step: 4400...', 'Loss: 0.000002...', 'Val Loss: 0.000001')\n",
            "('Epoch: 1/10...', 'Step: 4500...', 'Loss: 0.000002...', 'Val Loss: 0.000001')\n",
            "('Epoch: 1/10...', 'Step: 4600...', 'Loss: 0.000001...', 'Val Loss: 0.000001')\n",
            "('Epoch: 1/10...', 'Step: 4700...', 'Loss: 0.000001...', 'Val Loss: 0.000001')\n",
            "('Epoch: 1/10...', 'Step: 4800...', 'Loss: 0.000001...', 'Val Loss: 0.000001')\n",
            "('Epoch: 1/10...', 'Step: 4900...', 'Loss: 0.000001...', 'Val Loss: 0.000001')\n",
            "('Epoch: 1/10...', 'Step: 5000...', 'Loss: 0.000001...', 'Val Loss: 0.000001')\n",
            "('Epoch: 1/10...', 'Step: 5100...', 'Loss: 0.000001...', 'Val Loss: 0.000001')\n",
            "('Epoch: 1/10...', 'Step: 5200...', 'Loss: 0.000001...', 'Val Loss: 0.000001')\n",
            "('Epoch: 1/10...', 'Step: 5300...', 'Loss: 0.000001...', 'Val Loss: 0.000001')\n",
            "('Epoch: 1/10...', 'Step: 5400...', 'Loss: 0.000001...', 'Val Loss: 0.000001')\n",
            "('Epoch: 1/10...', 'Step: 5500...', 'Loss: 0.000003...', 'Val Loss: 0.000001')\n",
            "('Epoch: 1/10...', 'Step: 5600...', 'Loss: 0.000001...', 'Val Loss: 0.000001')\n",
            "('Epoch: 1/10...', 'Step: 5700...', 'Loss: 0.000000...', 'Val Loss: 0.000001')\n",
            "('Epoch: 1/10...', 'Step: 5800...', 'Loss: 0.000001...', 'Val Loss: 0.000000')\n",
            "('Epoch: 1/10...', 'Step: 5900...', 'Loss: 0.000001...', 'Val Loss: 0.000000')\n",
            "('Epoch: 1/10...', 'Step: 6000...', 'Loss: 0.000001...', 'Val Loss: 0.000000')\n",
            "('Epoch: 1/10...', 'Step: 6100...', 'Loss: 0.000001...', 'Val Loss: 0.000000')\n",
            "('Epoch: 1/10...', 'Step: 6200...', 'Loss: 0.000001...', 'Val Loss: 0.000000')\n",
            "('Epoch: 1/10...', 'Step: 6300...', 'Loss: 0.000000...', 'Val Loss: 0.000000')\n",
            "('Epoch: 1/10...', 'Step: 6400...', 'Loss: 0.000001...', 'Val Loss: 0.000000')\n",
            "('Epoch: 1/10...', 'Step: 6500...', 'Loss: 0.000001...', 'Val Loss: 0.000000')\n",
            "('Epoch: 1/10...', 'Step: 6600...', 'Loss: 0.000001...', 'Val Loss: 0.000000')\n",
            "('Epoch: 1/10...', 'Step: 6700...', 'Loss: 0.000000...', 'Val Loss: 0.000000')\n",
            "('Epoch: 1/10...', 'Step: 6800...', 'Loss: 0.000000...', 'Val Loss: 0.000000')\n",
            "('Epoch: 1/10...', 'Step: 6900...', 'Loss: 0.000000...', 'Val Loss: 0.000000')\n",
            "('Epoch: 1/10...', 'Step: 7000...', 'Loss: 0.000000...', 'Val Loss: 0.000000')\n",
            "('Epoch: 1/10...', 'Step: 7100...', 'Loss: 0.000001...', 'Val Loss: 0.000000')\n",
            "('Epoch: 1/10...', 'Step: 7200...', 'Loss: 0.000000...', 'Val Loss: 0.000000')\n",
            "('Epoch: 1/10...', 'Step: 7300...', 'Loss: 0.000000...', 'Val Loss: 0.000000')\n",
            "('Epoch: 1/10...', 'Step: 7400...', 'Loss: 0.000000...', 'Val Loss: 0.000000')\n",
            "('Epoch: 1/10...', 'Step: 7500...', 'Loss: 0.000000...', 'Val Loss: 0.000000')\n",
            "('Epoch: 1/10...', 'Step: 7600...', 'Loss: 0.000000...', 'Val Loss: 0.000000')\n",
            "('Epoch: 1/10...', 'Step: 7700...', 'Loss: 0.000000...', 'Val Loss: 0.000000')\n",
            "('Epoch: 1/10...', 'Step: 7800...', 'Loss: 0.000000...', 'Val Loss: 0.000000')\n",
            "('Epoch: 1/10...', 'Step: 7900...', 'Loss: 0.000000...', 'Val Loss: 0.000000')\n",
            "('Epoch: 1/10...', 'Step: 8000...', 'Loss: 0.000000...', 'Val Loss: 0.000000')\n",
            "('Epoch: 2/10...', 'Step: 8100...', 'Loss: 0.000000...', 'Val Loss: 0.000000')\n",
            "('Epoch: 2/10...', 'Step: 8200...', 'Loss: 0.000000...', 'Val Loss: 0.000000')\n",
            "('Epoch: 2/10...', 'Step: 8300...', 'Loss: 0.000000...', 'Val Loss: 0.000000')\n",
            "('Epoch: 2/10...', 'Step: 8400...', 'Loss: 0.000000...', 'Val Loss: 0.000000')\n",
            "('Epoch: 2/10...', 'Step: 8500...', 'Loss: 0.000000...', 'Val Loss: 0.000000')\n",
            "('Epoch: 2/10...', 'Step: 8600...', 'Loss: 0.000000...', 'Val Loss: 0.000000')\n",
            "('Epoch: 2/10...', 'Step: 8700...', 'Loss: 0.000000...', 'Val Loss: 0.000000')\n",
            "('Epoch: 2/10...', 'Step: 8800...', 'Loss: 0.000000...', 'Val Loss: 0.000000')\n",
            "('Epoch: 2/10...', 'Step: 8900...', 'Loss: 0.000000...', 'Val Loss: 0.000000')\n",
            "('Epoch: 2/10...', 'Step: 9000...', 'Loss: 0.000000...', 'Val Loss: 0.000000')\n",
            "('Epoch: 2/10...', 'Step: 9100...', 'Loss: 0.000000...', 'Val Loss: 0.000000')\n",
            "('Epoch: 2/10...', 'Step: 9200...', 'Loss: 0.000000...', 'Val Loss: 0.000000')\n",
            "('Epoch: 2/10...', 'Step: 9300...', 'Loss: 0.000000...', 'Val Loss: 0.000000')\n",
            "('Epoch: 2/10...', 'Step: 9400...', 'Loss: 0.000000...', 'Val Loss: 0.000000')\n",
            "('Epoch: 2/10...', 'Step: 9500...', 'Loss: 0.000000...', 'Val Loss: 0.000000')\n",
            "('Epoch: 2/10...', 'Step: 9600...', 'Loss: 0.000000...', 'Val Loss: 0.000000')\n",
            "('Epoch: 2/10...', 'Step: 9700...', 'Loss: 0.000000...', 'Val Loss: 0.000000')\n",
            "('Epoch: 2/10...', 'Step: 9800...', 'Loss: 0.000000...', 'Val Loss: 0.000000')\n",
            "('Epoch: 2/10...', 'Step: 9900...', 'Loss: 0.000000...', 'Val Loss: 0.000000')\n",
            "('Epoch: 2/10...', 'Step: 10000...', 'Loss: 0.000000...', 'Val Loss: 0.000000')\n",
            "('Epoch: 2/10...', 'Step: 10100...', 'Loss: 0.000000...', 'Val Loss: 0.000000')\n",
            "('Epoch: 2/10...', 'Step: 10200...', 'Loss: 0.000000...', 'Val Loss: 0.000000')\n",
            "('Epoch: 2/10...', 'Step: 10300...', 'Loss: 0.000000...', 'Val Loss: 0.000000')\n",
            "('Epoch: 2/10...', 'Step: 10400...', 'Loss: 0.000000...', 'Val Loss: 0.000000')\n",
            "('Epoch: 2/10...', 'Step: 10500...', 'Loss: 0.000000...', 'Val Loss: 0.000000')\n",
            "('Epoch: 2/10...', 'Step: 10600...', 'Loss: 0.000000...', 'Val Loss: 0.000000')\n",
            "('Epoch: 2/10...', 'Step: 10700...', 'Loss: 0.000000...', 'Val Loss: 0.000000')\n",
            "('Epoch: 2/10...', 'Step: 10800...', 'Loss: 0.000000...', 'Val Loss: 0.000000')\n",
            "('Epoch: 2/10...', 'Step: 10900...', 'Loss: 0.000000...', 'Val Loss: 0.000000')\n",
            "('Epoch: 2/10...', 'Step: 11000...', 'Loss: 0.000000...', 'Val Loss: 0.000000')\n",
            "('Epoch: 2/10...', 'Step: 11100...', 'Loss: 0.000000...', 'Val Loss: 0.000000')\n",
            "('Epoch: 2/10...', 'Step: 11200...', 'Loss: 0.000000...', 'Val Loss: 0.000000')\n",
            "('Epoch: 2/10...', 'Step: 11300...', 'Loss: 0.000000...', 'Val Loss: 0.000000')\n",
            "('Epoch: 2/10...', 'Step: 11400...', 'Loss: 0.000000...', 'Val Loss: 0.000000')\n",
            "('Epoch: 2/10...', 'Step: 11500...', 'Loss: 0.000000...', 'Val Loss: 0.000000')\n",
            "('Epoch: 2/10...', 'Step: 11600...', 'Loss: 0.000000...', 'Val Loss: 0.000000')\n",
            "('Epoch: 2/10...', 'Step: 11700...', 'Loss: 0.000000...', 'Val Loss: 0.000000')\n",
            "('Epoch: 2/10...', 'Step: 11800...', 'Loss: 0.000000...', 'Val Loss: 0.000000')\n",
            "('Epoch: 2/10...', 'Step: 11900...', 'Loss: 0.000000...', 'Val Loss: 0.000000')\n",
            "('Epoch: 2/10...', 'Step: 12000...', 'Loss: 0.000000...', 'Val Loss: 0.000000')\n",
            "('Epoch: 2/10...', 'Step: 12100...', 'Loss: 0.000000...', 'Val Loss: 0.000000')\n",
            "('Epoch: 2/10...', 'Step: 12200...', 'Loss: 0.000000...', 'Val Loss: 0.000000')\n",
            "('Epoch: 2/10...', 'Step: 12300...', 'Loss: 0.000000...', 'Val Loss: 0.000000')\n",
            "('Epoch: 2/10...', 'Step: 12400...', 'Loss: 0.000000...', 'Val Loss: 0.000000')\n",
            "('Epoch: 2/10...', 'Step: 12500...', 'Loss: 0.000000...', 'Val Loss: 0.000000')\n",
            "('Epoch: 2/10...', 'Step: 12600...', 'Loss: 0.000000...', 'Val Loss: 0.000000')\n",
            "('Epoch: 2/10...', 'Step: 12700...', 'Loss: 0.000000...', 'Val Loss: 0.000000')\n",
            "('Epoch: 2/10...', 'Step: 12800...', 'Loss: 0.000000...', 'Val Loss: 0.000000')\n",
            "('Epoch: 2/10...', 'Step: 12900...', 'Loss: 0.000000...', 'Val Loss: 0.000000')\n",
            "('Epoch: 2/10...', 'Step: 13000...', 'Loss: 0.000000...', 'Val Loss: 0.000000')\n",
            "('Epoch: 2/10...', 'Step: 13100...', 'Loss: 0.000000...', 'Val Loss: 0.000000')\n",
            "('Epoch: 2/10...', 'Step: 13200...', 'Loss: 0.000000...', 'Val Loss: 0.000000')\n",
            "('Epoch: 2/10...', 'Step: 13300...', 'Loss: 0.000000...', 'Val Loss: 0.000000')\n",
            "('Epoch: 2/10...', 'Step: 13400...', 'Loss: 0.000000...', 'Val Loss: 0.000000')\n",
            "('Epoch: 2/10...', 'Step: 13500...', 'Loss: 0.000000...', 'Val Loss: 0.000000')\n",
            "('Epoch: 2/10...', 'Step: 13600...', 'Loss: 0.000000...', 'Val Loss: 0.000000')\n",
            "('Epoch: 2/10...', 'Step: 13700...', 'Loss: 0.000000...', 'Val Loss: 0.000000')\n",
            "('Epoch: 2/10...', 'Step: 13800...', 'Loss: 0.000000...', 'Val Loss: 0.000000')\n",
            "('Epoch: 2/10...', 'Step: 13900...', 'Loss: 0.000000...', 'Val Loss: 0.000000')\n",
            "('Epoch: 2/10...', 'Step: 14000...', 'Loss: 0.000000...', 'Val Loss: 0.000000')\n",
            "('Epoch: 2/10...', 'Step: 14100...', 'Loss: 0.000000...', 'Val Loss: 0.000000')\n",
            "('Epoch: 2/10...', 'Step: 14200...', 'Loss: 0.000000...', 'Val Loss: 0.000000')\n",
            "('Epoch: 2/10...', 'Step: 14300...', 'Loss: 0.000000...', 'Val Loss: 0.000000')\n",
            "('Epoch: 2/10...', 'Step: 14400...', 'Loss: 0.000000...', 'Val Loss: 0.000000')\n",
            "('Epoch: 2/10...', 'Step: 14500...', 'Loss: 0.000000...', 'Val Loss: 0.000000')\n",
            "('Epoch: 2/10...', 'Step: 14600...', 'Loss: 0.000000...', 'Val Loss: 0.000000')\n",
            "('Epoch: 2/10...', 'Step: 14700...', 'Loss: 0.000000...', 'Val Loss: 0.000000')\n",
            "('Epoch: 2/10...', 'Step: 14800...', 'Loss: 0.000000...', 'Val Loss: 0.000000')\n",
            "('Epoch: 2/10...', 'Step: 14900...', 'Loss: 0.000000...', 'Val Loss: 0.000000')\n",
            "('Epoch: 2/10...', 'Step: 15000...', 'Loss: 0.000000...', 'Val Loss: 0.000000')\n",
            "('Epoch: 2/10...', 'Step: 15100...', 'Loss: 0.000000...', 'Val Loss: 0.000000')\n",
            "('Epoch: 2/10...', 'Step: 15200...', 'Loss: 0.000000...', 'Val Loss: 0.000000')\n",
            "('Epoch: 2/10...', 'Step: 15300...', 'Loss: 0.000000...', 'Val Loss: 0.000000')\n",
            "('Epoch: 2/10...', 'Step: 15400...', 'Loss: 0.000000...', 'Val Loss: 0.000000')\n",
            "('Epoch: 2/10...', 'Step: 15500...', 'Loss: 0.000000...', 'Val Loss: 0.000000')\n",
            "('Epoch: 2/10...', 'Step: 15600...', 'Loss: 0.000000...', 'Val Loss: 0.000000')\n",
            "('Epoch: 2/10...', 'Step: 15700...', 'Loss: 0.000000...', 'Val Loss: 0.000000')\n",
            "('Epoch: 2/10...', 'Step: 15800...', 'Loss: 0.000000...', 'Val Loss: 0.000000')\n",
            "('Epoch: 2/10...', 'Step: 15900...', 'Loss: 0.000000...', 'Val Loss: 0.000000')\n",
            "('Epoch: 2/10...', 'Step: 16000...', 'Loss: 0.000000...', 'Val Loss: 0.000000')\n",
            "('Epoch: 3/10...', 'Step: 16100...', 'Loss: 0.000000...', 'Val Loss: 0.000000')\n",
            "('Epoch: 3/10...', 'Step: 16200...', 'Loss: 0.000000...', 'Val Loss: 0.000000')\n",
            "('Epoch: 3/10...', 'Step: 16300...', 'Loss: 0.000000...', 'Val Loss: 0.000000')\n",
            "('Epoch: 3/10...', 'Step: 16400...', 'Loss: 0.000000...', 'Val Loss: 0.000000')\n",
            "('Epoch: 3/10...', 'Step: 16500...', 'Loss: 0.000000...', 'Val Loss: 0.000000')\n",
            "('Epoch: 3/10...', 'Step: 16600...', 'Loss: 0.000000...', 'Val Loss: 0.000000')\n",
            "('Epoch: 3/10...', 'Step: 16700...', 'Loss: 0.000000...', 'Val Loss: 0.000000')\n",
            "('Epoch: 3/10...', 'Step: 16800...', 'Loss: 0.000000...', 'Val Loss: 0.000000')\n",
            "('Epoch: 3/10...', 'Step: 16900...', 'Loss: 0.000000...', 'Val Loss: 0.000000')\n",
            "('Epoch: 3/10...', 'Step: 17000...', 'Loss: 0.000000...', 'Val Loss: 0.000000')\n",
            "('Epoch: 3/10...', 'Step: 17100...', 'Loss: 0.000000...', 'Val Loss: 0.000000')\n",
            "('Epoch: 3/10...', 'Step: 17200...', 'Loss: 0.000000...', 'Val Loss: 0.000000')\n",
            "('Epoch: 3/10...', 'Step: 17300...', 'Loss: 0.000000...', 'Val Loss: 0.000000')\n",
            "('Epoch: 3/10...', 'Step: 17400...', 'Loss: 0.000000...', 'Val Loss: 0.000000')\n",
            "('Epoch: 3/10...', 'Step: 17500...', 'Loss: 0.000000...', 'Val Loss: 0.000000')\n",
            "('Epoch: 3/10...', 'Step: 17600...', 'Loss: 0.000000...', 'Val Loss: 0.000000')\n",
            "('Epoch: 3/10...', 'Step: 17700...', 'Loss: 0.000000...', 'Val Loss: 0.000000')\n",
            "('Epoch: 3/10...', 'Step: 17800...', 'Loss: 0.000000...', 'Val Loss: 0.000000')\n",
            "('Epoch: 3/10...', 'Step: 17900...', 'Loss: 0.000000...', 'Val Loss: 0.000000')\n",
            "('Epoch: 3/10...', 'Step: 18000...', 'Loss: 0.000000...', 'Val Loss: 0.000000')\n",
            "('Epoch: 3/10...', 'Step: 18100...', 'Loss: 0.000000...', 'Val Loss: 0.000000')\n",
            "('Epoch: 3/10...', 'Step: 18200...', 'Loss: 0.000000...', 'Val Loss: 0.000000')\n",
            "('Epoch: 3/10...', 'Step: 18300...', 'Loss: 0.000000...', 'Val Loss: 0.000000')\n",
            "('Epoch: 3/10...', 'Step: 18400...', 'Loss: 0.000000...', 'Val Loss: 0.000000')\n",
            "('Epoch: 3/10...', 'Step: 18500...', 'Loss: 0.000000...', 'Val Loss: 0.000000')\n",
            "('Epoch: 3/10...', 'Step: 18600...', 'Loss: 0.000000...', 'Val Loss: 0.000000')\n",
            "('Epoch: 3/10...', 'Step: 18700...', 'Loss: 0.000000...', 'Val Loss: 0.000000')\n",
            "('Epoch: 3/10...', 'Step: 18800...', 'Loss: 0.000000...', 'Val Loss: 0.000000')\n",
            "('Epoch: 3/10...', 'Step: 18900...', 'Loss: 0.000000...', 'Val Loss: 0.000000')\n",
            "('Epoch: 3/10...', 'Step: 19000...', 'Loss: 0.000000...', 'Val Loss: 0.000000')\n",
            "('Epoch: 3/10...', 'Step: 19100...', 'Loss: 0.000000...', 'Val Loss: 0.000000')\n",
            "('Epoch: 3/10...', 'Step: 19200...', 'Loss: 0.000000...', 'Val Loss: 0.000000')\n",
            "('Epoch: 3/10...', 'Step: 19300...', 'Loss: 0.000000...', 'Val Loss: 0.000000')\n",
            "('Epoch: 3/10...', 'Step: 19400...', 'Loss: 0.000000...', 'Val Loss: 0.000000')\n",
            "('Epoch: 3/10...', 'Step: 19500...', 'Loss: 0.000000...', 'Val Loss: 0.000000')\n",
            "('Epoch: 3/10...', 'Step: 19600...', 'Loss: 0.000000...', 'Val Loss: 0.000000')\n",
            "('Epoch: 3/10...', 'Step: 19700...', 'Loss: 0.000000...', 'Val Loss: 0.000000')\n",
            "('Epoch: 3/10...', 'Step: 19800...', 'Loss: 0.000000...', 'Val Loss: 0.000000')\n",
            "('Epoch: 3/10...', 'Step: 19900...', 'Loss: 0.000000...', 'Val Loss: 0.000000')\n",
            "('Epoch: 3/10...', 'Step: 20000...', 'Loss: 0.000000...', 'Val Loss: 0.000000')\n",
            "('Epoch: 3/10...', 'Step: 20100...', 'Loss: 0.000000...', 'Val Loss: 0.000000')\n",
            "('Epoch: 3/10...', 'Step: 20200...', 'Loss: 0.000000...', 'Val Loss: 0.000000')\n",
            "('Epoch: 3/10...', 'Step: 20300...', 'Loss: 0.000000...', 'Val Loss: 0.000000')\n",
            "('Epoch: 3/10...', 'Step: 20400...', 'Loss: 0.000000...', 'Val Loss: 0.000000')\n",
            "('Epoch: 3/10...', 'Step: 20500...', 'Loss: 0.000000...', 'Val Loss: 0.000000')\n",
            "('Epoch: 3/10...', 'Step: 20600...', 'Loss: 0.000000...', 'Val Loss: 0.000000')\n",
            "('Epoch: 3/10...', 'Step: 20700...', 'Loss: 0.000000...', 'Val Loss: 0.000000')\n",
            "('Epoch: 3/10...', 'Step: 20800...', 'Loss: 0.000000...', 'Val Loss: 0.000000')\n",
            "('Epoch: 3/10...', 'Step: 20900...', 'Loss: 0.000000...', 'Val Loss: 0.000000')\n",
            "('Epoch: 3/10...', 'Step: 21000...', 'Loss: 0.000000...', 'Val Loss: 0.000000')\n",
            "('Epoch: 3/10...', 'Step: 21100...', 'Loss: 0.000000...', 'Val Loss: 0.000000')\n",
            "('Epoch: 3/10...', 'Step: 21200...', 'Loss: 0.000000...', 'Val Loss: 0.000000')\n",
            "('Epoch: 3/10...', 'Step: 21300...', 'Loss: 0.000000...', 'Val Loss: 0.000000')\n",
            "('Epoch: 3/10...', 'Step: 21400...', 'Loss: 0.000000...', 'Val Loss: 0.000000')\n",
            "('Epoch: 3/10...', 'Step: 21500...', 'Loss: 0.000000...', 'Val Loss: 0.000000')\n",
            "('Epoch: 3/10...', 'Step: 21600...', 'Loss: 0.000000...', 'Val Loss: 0.000000')\n",
            "('Epoch: 3/10...', 'Step: 21700...', 'Loss: 0.000000...', 'Val Loss: 0.000000')\n",
            "('Epoch: 3/10...', 'Step: 21800...', 'Loss: 0.000000...', 'Val Loss: 0.000000')\n",
            "('Epoch: 3/10...', 'Step: 21900...', 'Loss: 0.000000...', 'Val Loss: 0.000000')\n",
            "('Epoch: 3/10...', 'Step: 22000...', 'Loss: 0.000000...', 'Val Loss: 0.000000')\n",
            "('Epoch: 3/10...', 'Step: 22100...', 'Loss: 0.000000...', 'Val Loss: 0.000000')\n",
            "('Epoch: 3/10...', 'Step: 22200...', 'Loss: 0.000000...', 'Val Loss: 0.000000')\n",
            "('Epoch: 3/10...', 'Step: 22300...', 'Loss: 0.000000...', 'Val Loss: 0.000000')\n",
            "('Epoch: 3/10...', 'Step: 22400...', 'Loss: 0.000000...', 'Val Loss: 0.000000')\n",
            "('Epoch: 3/10...', 'Step: 22500...', 'Loss: 0.000000...', 'Val Loss: 0.000000')\n",
            "('Epoch: 3/10...', 'Step: 22600...', 'Loss: 0.000000...', 'Val Loss: 0.000000')\n",
            "('Epoch: 3/10...', 'Step: 22700...', 'Loss: 0.000000...', 'Val Loss: 0.000000')\n",
            "('Epoch: 3/10...', 'Step: 22800...', 'Loss: 0.000000...', 'Val Loss: 0.000000')\n",
            "('Epoch: 3/10...', 'Step: 22900...', 'Loss: 0.000000...', 'Val Loss: 0.000000')\n",
            "('Epoch: 3/10...', 'Step: 23000...', 'Loss: 0.000000...', 'Val Loss: 0.000000')\n",
            "('Epoch: 3/10...', 'Step: 23100...', 'Loss: 0.000000...', 'Val Loss: 0.000000')\n",
            "('Epoch: 3/10...', 'Step: 23200...', 'Loss: 0.000000...', 'Val Loss: 0.000000')\n",
            "('Epoch: 3/10...', 'Step: 23300...', 'Loss: 0.000000...', 'Val Loss: 0.000000')\n",
            "('Epoch: 3/10...', 'Step: 23400...', 'Loss: 0.000000...', 'Val Loss: 0.000000')\n",
            "('Epoch: 3/10...', 'Step: 23500...', 'Loss: 0.000000...', 'Val Loss: 0.000000')\n",
            "('Epoch: 3/10...', 'Step: 23600...', 'Loss: 0.000000...', 'Val Loss: 0.000000')\n",
            "('Epoch: 3/10...', 'Step: 23700...', 'Loss: 0.000000...', 'Val Loss: 0.000000')\n",
            "('Epoch: 3/10...', 'Step: 23800...', 'Loss: 0.000000...', 'Val Loss: 0.000000')\n",
            "('Epoch: 3/10...', 'Step: 23900...', 'Loss: 0.000000...', 'Val Loss: 0.000000')\n",
            "('Epoch: 3/10...', 'Step: 24000...', 'Loss: 0.000000...', 'Val Loss: 0.000000')\n",
            "('Epoch: 4/10...', 'Step: 24100...', 'Loss: 0.000000...', 'Val Loss: 0.000000')\n",
            "('Epoch: 4/10...', 'Step: 24200...', 'Loss: 0.000000...', 'Val Loss: 0.000000')\n",
            "('Epoch: 4/10...', 'Step: 24300...', 'Loss: 0.000000...', 'Val Loss: 0.000000')\n",
            "('Epoch: 4/10...', 'Step: 24400...', 'Loss: 0.000000...', 'Val Loss: 0.000000')\n",
            "('Epoch: 4/10...', 'Step: 24500...', 'Loss: 0.000000...', 'Val Loss: 0.000000')\n",
            "('Epoch: 4/10...', 'Step: 24600...', 'Loss: 0.000000...', 'Val Loss: 0.000000')\n",
            "('Epoch: 4/10...', 'Step: 24700...', 'Loss: 0.000000...', 'Val Loss: 0.000000')\n",
            "('Epoch: 4/10...', 'Step: 24800...', 'Loss: 0.000000...', 'Val Loss: 0.000000')\n",
            "('Epoch: 4/10...', 'Step: 24900...', 'Loss: 0.000000...', 'Val Loss: 0.000000')\n",
            "('Epoch: 4/10...', 'Step: 25000...', 'Loss: 0.000000...', 'Val Loss: 0.000000')\n",
            "('Epoch: 4/10...', 'Step: 25100...', 'Loss: 0.000000...', 'Val Loss: 0.000000')\n",
            "('Epoch: 4/10...', 'Step: 25200...', 'Loss: 0.000000...', 'Val Loss: 0.000000')\n",
            "('Epoch: 4/10...', 'Step: 25300...', 'Loss: 0.000000...', 'Val Loss: 0.000000')\n",
            "('Epoch: 4/10...', 'Step: 25400...', 'Loss: 0.000000...', 'Val Loss: 0.000000')\n",
            "('Epoch: 4/10...', 'Step: 25500...', 'Loss: 0.000000...', 'Val Loss: 0.000000')\n",
            "('Epoch: 4/10...', 'Step: 25600...', 'Loss: 0.000000...', 'Val Loss: 0.000000')\n",
            "('Epoch: 4/10...', 'Step: 25700...', 'Loss: 0.000000...', 'Val Loss: 0.000000')\n",
            "('Epoch: 4/10...', 'Step: 25800...', 'Loss: 0.000000...', 'Val Loss: 0.000000')\n",
            "('Epoch: 4/10...', 'Step: 25900...', 'Loss: 0.000000...', 'Val Loss: 0.000000')\n",
            "('Epoch: 4/10...', 'Step: 26000...', 'Loss: 0.000000...', 'Val Loss: 0.000000')\n",
            "('Epoch: 4/10...', 'Step: 26100...', 'Loss: 0.000000...', 'Val Loss: 0.000000')\n",
            "('Epoch: 4/10...', 'Step: 26200...', 'Loss: 0.000000...', 'Val Loss: 0.000000')\n",
            "('Epoch: 4/10...', 'Step: 26300...', 'Loss: 0.000000...', 'Val Loss: 0.000000')\n",
            "('Epoch: 4/10...', 'Step: 26400...', 'Loss: 0.000000...', 'Val Loss: 0.000000')\n",
            "('Epoch: 4/10...', 'Step: 26500...', 'Loss: 0.000000...', 'Val Loss: 0.000000')\n",
            "('Epoch: 4/10...', 'Step: 26600...', 'Loss: 0.000000...', 'Val Loss: 0.000000')\n",
            "('Epoch: 4/10...', 'Step: 26700...', 'Loss: 0.000000...', 'Val Loss: 0.000000')\n",
            "('Epoch: 4/10...', 'Step: 26800...', 'Loss: 0.000000...', 'Val Loss: 0.000000')\n",
            "('Epoch: 4/10...', 'Step: 26900...', 'Loss: 0.000000...', 'Val Loss: 0.000000')\n",
            "('Epoch: 4/10...', 'Step: 27000...', 'Loss: 0.000000...', 'Val Loss: 0.000000')\n",
            "('Epoch: 4/10...', 'Step: 27100...', 'Loss: 0.000000...', 'Val Loss: 0.000000')\n",
            "('Epoch: 4/10...', 'Step: 27200...', 'Loss: 0.000000...', 'Val Loss: 0.000000')\n",
            "('Epoch: 4/10...', 'Step: 27300...', 'Loss: 0.000000...', 'Val Loss: 0.000000')\n",
            "('Epoch: 4/10...', 'Step: 27400...', 'Loss: 0.000000...', 'Val Loss: 0.000000')\n",
            "('Epoch: 4/10...', 'Step: 27500...', 'Loss: 0.000000...', 'Val Loss: 0.000000')\n",
            "('Epoch: 4/10...', 'Step: 27600...', 'Loss: 0.000000...', 'Val Loss: 0.000000')\n",
            "('Epoch: 4/10...', 'Step: 27700...', 'Loss: 0.000000...', 'Val Loss: 0.000000')\n",
            "('Epoch: 4/10...', 'Step: 27800...', 'Loss: 0.000000...', 'Val Loss: 0.000000')\n",
            "('Epoch: 4/10...', 'Step: 27900...', 'Loss: 0.000000...', 'Val Loss: 0.000000')\n",
            "('Epoch: 4/10...', 'Step: 28000...', 'Loss: 0.000000...', 'Val Loss: 0.000000')\n",
            "('Epoch: 4/10...', 'Step: 28100...', 'Loss: 0.000000...', 'Val Loss: 0.000000')\n",
            "('Epoch: 4/10...', 'Step: 28200...', 'Loss: 0.000000...', 'Val Loss: 0.000000')\n",
            "('Epoch: 4/10...', 'Step: 28300...', 'Loss: 0.000000...', 'Val Loss: 0.000000')\n",
            "('Epoch: 4/10...', 'Step: 28400...', 'Loss: 0.000000...', 'Val Loss: 0.000000')\n",
            "('Epoch: 4/10...', 'Step: 28500...', 'Loss: 0.000000...', 'Val Loss: 0.000000')\n",
            "('Epoch: 4/10...', 'Step: 28600...', 'Loss: 0.000000...', 'Val Loss: 0.000000')\n",
            "('Epoch: 4/10...', 'Step: 28700...', 'Loss: 0.000000...', 'Val Loss: 0.000000')\n",
            "('Epoch: 4/10...', 'Step: 28800...', 'Loss: 0.000000...', 'Val Loss: 0.000000')\n",
            "('Epoch: 4/10...', 'Step: 28900...', 'Loss: 0.000000...', 'Val Loss: 0.000000')\n",
            "('Epoch: 4/10...', 'Step: 29000...', 'Loss: 0.000000...', 'Val Loss: 0.000000')\n",
            "('Epoch: 4/10...', 'Step: 29100...', 'Loss: 0.000000...', 'Val Loss: 0.000000')\n",
            "('Epoch: 4/10...', 'Step: 29200...', 'Loss: 0.000000...', 'Val Loss: 0.000000')\n",
            "('Epoch: 4/10...', 'Step: 29300...', 'Loss: 0.000000...', 'Val Loss: 0.000000')\n",
            "('Epoch: 4/10...', 'Step: 29400...', 'Loss: 0.000000...', 'Val Loss: 0.000000')\n",
            "('Epoch: 4/10...', 'Step: 29500...', 'Loss: 0.000000...', 'Val Loss: 0.000000')\n",
            "('Epoch: 4/10...', 'Step: 29600...', 'Loss: 0.000000...', 'Val Loss: 0.000000')\n",
            "('Epoch: 4/10...', 'Step: 29700...', 'Loss: 0.000000...', 'Val Loss: 0.000000')\n",
            "('Epoch: 4/10...', 'Step: 29800...', 'Loss: 0.000000...', 'Val Loss: 0.000000')\n",
            "('Epoch: 4/10...', 'Step: 29900...', 'Loss: 0.000000...', 'Val Loss: 0.000000')\n",
            "('Epoch: 4/10...', 'Step: 30000...', 'Loss: 0.000000...', 'Val Loss: 0.000000')\n",
            "('Epoch: 4/10...', 'Step: 30100...', 'Loss: 0.000000...', 'Val Loss: 0.000000')\n",
            "('Epoch: 4/10...', 'Step: 30200...', 'Loss: 0.000000...', 'Val Loss: 0.000000')\n",
            "('Epoch: 4/10...', 'Step: 30300...', 'Loss: 0.000000...', 'Val Loss: 0.000000')\n",
            "('Epoch: 4/10...', 'Step: 30400...', 'Loss: 0.000000...', 'Val Loss: 0.000000')\n",
            "('Epoch: 4/10...', 'Step: 30500...', 'Loss: 0.000000...', 'Val Loss: 0.000000')\n",
            "('Epoch: 4/10...', 'Step: 30600...', 'Loss: 0.000000...', 'Val Loss: 0.000000')\n",
            "('Epoch: 4/10...', 'Step: 30700...', 'Loss: 0.000000...', 'Val Loss: 0.000000')\n",
            "('Epoch: 4/10...', 'Step: 30800...', 'Loss: 0.000000...', 'Val Loss: 0.000000')\n",
            "('Epoch: 4/10...', 'Step: 30900...', 'Loss: 0.000000...', 'Val Loss: 0.000000')\n",
            "('Epoch: 4/10...', 'Step: 31000...', 'Loss: 0.000000...', 'Val Loss: 0.000000')\n",
            "('Epoch: 4/10...', 'Step: 31100...', 'Loss: 0.000000...', 'Val Loss: 0.000000')\n",
            "('Epoch: 4/10...', 'Step: 31200...', 'Loss: 0.000000...', 'Val Loss: 0.000000')\n",
            "('Epoch: 4/10...', 'Step: 31300...', 'Loss: 0.000000...', 'Val Loss: 0.000000')\n",
            "('Epoch: 4/10...', 'Step: 31400...', 'Loss: 0.000000...', 'Val Loss: 0.000000')\n",
            "('Epoch: 4/10...', 'Step: 31500...', 'Loss: 0.000000...', 'Val Loss: 0.000000')\n",
            "('Epoch: 4/10...', 'Step: 31600...', 'Loss: 0.000000...', 'Val Loss: 0.000000')\n",
            "('Epoch: 4/10...', 'Step: 31700...', 'Loss: 0.000000...', 'Val Loss: 0.000000')\n",
            "('Epoch: 4/10...', 'Step: 31800...', 'Loss: 0.000000...', 'Val Loss: 0.000000')\n",
            "('Epoch: 4/10...', 'Step: 31900...', 'Loss: 0.000000...', 'Val Loss: 0.000000')\n",
            "('Epoch: 4/10...', 'Step: 32000...', 'Loss: 0.000000...', 'Val Loss: 0.000000')\n",
            "('Epoch: 5/10...', 'Step: 32100...', 'Loss: 0.000000...', 'Val Loss: 0.000000')\n",
            "('Epoch: 5/10...', 'Step: 32200...', 'Loss: 0.000000...', 'Val Loss: 0.000000')\n",
            "('Epoch: 5/10...', 'Step: 32300...', 'Loss: 0.000000...', 'Val Loss: 0.000000')\n",
            "('Epoch: 5/10...', 'Step: 32400...', 'Loss: 0.000000...', 'Val Loss: 0.000000')\n",
            "('Epoch: 5/10...', 'Step: 32500...', 'Loss: 0.000000...', 'Val Loss: 0.000000')\n",
            "('Epoch: 5/10...', 'Step: 32600...', 'Loss: 0.000000...', 'Val Loss: 0.000000')\n",
            "('Epoch: 5/10...', 'Step: 32700...', 'Loss: 0.000000...', 'Val Loss: 0.000000')\n",
            "('Epoch: 5/10...', 'Step: 32800...', 'Loss: 0.000000...', 'Val Loss: 0.000000')\n",
            "('Epoch: 5/10...', 'Step: 32900...', 'Loss: 0.000000...', 'Val Loss: 0.000000')\n",
            "('Epoch: 5/10...', 'Step: 33000...', 'Loss: 0.000000...', 'Val Loss: 0.000000')\n",
            "('Epoch: 5/10...', 'Step: 33100...', 'Loss: 0.000000...', 'Val Loss: 0.000000')\n",
            "('Epoch: 5/10...', 'Step: 33200...', 'Loss: 0.000000...', 'Val Loss: 0.000000')\n",
            "('Epoch: 5/10...', 'Step: 33300...', 'Loss: 0.000000...', 'Val Loss: 0.000000')\n",
            "('Epoch: 5/10...', 'Step: 33400...', 'Loss: 0.000000...', 'Val Loss: 0.000000')\n",
            "('Epoch: 5/10...', 'Step: 33500...', 'Loss: 0.000000...', 'Val Loss: 0.000000')\n",
            "('Epoch: 5/10...', 'Step: 33600...', 'Loss: 0.000000...', 'Val Loss: 0.000000')\n",
            "('Epoch: 5/10...', 'Step: 33700...', 'Loss: 0.000000...', 'Val Loss: 0.000000')\n",
            "('Epoch: 5/10...', 'Step: 33800...', 'Loss: 0.000000...', 'Val Loss: 0.000000')\n",
            "('Epoch: 5/10...', 'Step: 33900...', 'Loss: 0.000000...', 'Val Loss: 0.000000')\n",
            "('Epoch: 5/10...', 'Step: 34000...', 'Loss: 0.000000...', 'Val Loss: 0.000000')\n",
            "('Epoch: 5/10...', 'Step: 34100...', 'Loss: 0.000000...', 'Val Loss: 0.000000')\n",
            "('Epoch: 5/10...', 'Step: 34200...', 'Loss: 0.000000...', 'Val Loss: 0.000000')\n",
            "('Epoch: 5/10...', 'Step: 34300...', 'Loss: 0.000000...', 'Val Loss: 0.000000')\n",
            "('Epoch: 5/10...', 'Step: 34400...', 'Loss: 0.000000...', 'Val Loss: 0.000000')\n",
            "('Epoch: 5/10...', 'Step: 34500...', 'Loss: 0.000000...', 'Val Loss: 0.000000')\n",
            "('Epoch: 5/10...', 'Step: 34600...', 'Loss: 0.000000...', 'Val Loss: 0.000000')\n",
            "('Epoch: 5/10...', 'Step: 34700...', 'Loss: 0.000000...', 'Val Loss: 0.000000')\n",
            "('Epoch: 5/10...', 'Step: 34800...', 'Loss: 0.000000...', 'Val Loss: 0.000000')\n",
            "('Epoch: 5/10...', 'Step: 34900...', 'Loss: 0.000000...', 'Val Loss: 0.000000')\n",
            "('Epoch: 5/10...', 'Step: 35000...', 'Loss: 0.000000...', 'Val Loss: 0.000000')\n",
            "('Epoch: 5/10...', 'Step: 35100...', 'Loss: 0.000000...', 'Val Loss: 0.000000')\n",
            "('Epoch: 5/10...', 'Step: 35200...', 'Loss: 0.000000...', 'Val Loss: 0.000000')\n",
            "('Epoch: 5/10...', 'Step: 35300...', 'Loss: 0.000000...', 'Val Loss: 0.000000')\n",
            "('Epoch: 5/10...', 'Step: 35400...', 'Loss: 0.000000...', 'Val Loss: 0.000000')\n",
            "('Epoch: 5/10...', 'Step: 35500...', 'Loss: 0.000000...', 'Val Loss: 0.000000')\n",
            "('Epoch: 5/10...', 'Step: 35600...', 'Loss: 0.000000...', 'Val Loss: 0.000000')\n",
            "('Epoch: 5/10...', 'Step: 35700...', 'Loss: 0.000000...', 'Val Loss: 0.000000')\n",
            "('Epoch: 5/10...', 'Step: 35800...', 'Loss: 0.000000...', 'Val Loss: 0.000000')\n",
            "('Epoch: 5/10...', 'Step: 35900...', 'Loss: 0.000000...', 'Val Loss: 0.000000')\n",
            "('Epoch: 5/10...', 'Step: 36000...', 'Loss: 0.000000...', 'Val Loss: 0.000000')\n",
            "('Epoch: 5/10...', 'Step: 36100...', 'Loss: 0.000000...', 'Val Loss: 0.000000')\n",
            "('Epoch: 5/10...', 'Step: 36200...', 'Loss: 0.000000...', 'Val Loss: 0.000000')\n",
            "('Epoch: 5/10...', 'Step: 36300...', 'Loss: 0.000000...', 'Val Loss: 0.000000')\n",
            "('Epoch: 5/10...', 'Step: 36400...', 'Loss: 0.000000...', 'Val Loss: 0.000000')\n",
            "('Epoch: 5/10...', 'Step: 36500...', 'Loss: 0.000000...', 'Val Loss: 0.000000')\n",
            "('Epoch: 5/10...', 'Step: 36600...', 'Loss: 0.000000...', 'Val Loss: 0.000000')\n",
            "('Epoch: 5/10...', 'Step: 36700...', 'Loss: 0.000000...', 'Val Loss: 0.000000')\n",
            "('Epoch: 5/10...', 'Step: 36800...', 'Loss: 0.000000...', 'Val Loss: 0.000000')\n",
            "('Epoch: 5/10...', 'Step: 36900...', 'Loss: 0.000000...', 'Val Loss: 0.000000')\n",
            "('Epoch: 5/10...', 'Step: 37000...', 'Loss: 0.000000...', 'Val Loss: 0.000000')\n",
            "('Epoch: 5/10...', 'Step: 37100...', 'Loss: 0.000000...', 'Val Loss: 0.000000')\n",
            "('Epoch: 5/10...', 'Step: 37200...', 'Loss: 0.000000...', 'Val Loss: 0.000000')\n",
            "('Epoch: 5/10...', 'Step: 37300...', 'Loss: 0.000000...', 'Val Loss: 0.000000')\n",
            "('Epoch: 5/10...', 'Step: 37400...', 'Loss: 0.000000...', 'Val Loss: 0.000000')\n",
            "('Epoch: 5/10...', 'Step: 37500...', 'Loss: 0.000000...', 'Val Loss: 0.000000')\n",
            "('Epoch: 5/10...', 'Step: 37600...', 'Loss: 0.000000...', 'Val Loss: 0.000000')\n",
            "('Epoch: 5/10...', 'Step: 37700...', 'Loss: 0.000000...', 'Val Loss: 0.000000')\n",
            "('Epoch: 5/10...', 'Step: 37800...', 'Loss: 0.000000...', 'Val Loss: 0.000000')\n",
            "('Epoch: 5/10...', 'Step: 37900...', 'Loss: 0.000000...', 'Val Loss: 0.000000')\n",
            "('Epoch: 5/10...', 'Step: 38000...', 'Loss: 0.000000...', 'Val Loss: 0.000000')\n",
            "('Epoch: 5/10...', 'Step: 38100...', 'Loss: 0.000000...', 'Val Loss: 0.000000')\n",
            "('Epoch: 5/10...', 'Step: 38200...', 'Loss: 0.000000...', 'Val Loss: 0.000000')\n",
            "('Epoch: 5/10...', 'Step: 38300...', 'Loss: 0.000000...', 'Val Loss: 0.000000')\n",
            "('Epoch: 5/10...', 'Step: 38400...', 'Loss: 0.000000...', 'Val Loss: 0.000000')\n",
            "('Epoch: 5/10...', 'Step: 38500...', 'Loss: 0.000000...', 'Val Loss: 0.000000')\n",
            "('Epoch: 5/10...', 'Step: 38600...', 'Loss: 0.000000...', 'Val Loss: 0.000000')\n",
            "('Epoch: 5/10...', 'Step: 38700...', 'Loss: 0.000000...', 'Val Loss: 0.000000')\n",
            "('Epoch: 5/10...', 'Step: 38800...', 'Loss: 0.000000...', 'Val Loss: 0.000000')\n",
            "('Epoch: 5/10...', 'Step: 38900...', 'Loss: 0.000000...', 'Val Loss: 0.000000')\n",
            "('Epoch: 5/10...', 'Step: 39000...', 'Loss: 0.000000...', 'Val Loss: 0.000000')\n",
            "('Epoch: 5/10...', 'Step: 39100...', 'Loss: 0.000000...', 'Val Loss: 0.000000')\n",
            "('Epoch: 5/10...', 'Step: 39200...', 'Loss: 0.000000...', 'Val Loss: 0.000000')\n",
            "('Epoch: 5/10...', 'Step: 39300...', 'Loss: 0.000000...', 'Val Loss: 0.000000')\n",
            "('Epoch: 5/10...', 'Step: 39400...', 'Loss: 0.000000...', 'Val Loss: 0.000000')\n",
            "('Epoch: 5/10...', 'Step: 39500...', 'Loss: 0.000000...', 'Val Loss: 0.000000')\n",
            "('Epoch: 5/10...', 'Step: 39600...', 'Loss: 0.000000...', 'Val Loss: 0.000000')\n",
            "('Epoch: 5/10...', 'Step: 39700...', 'Loss: 0.000000...', 'Val Loss: 0.000000')\n",
            "('Epoch: 5/10...', 'Step: 39800...', 'Loss: 0.000000...', 'Val Loss: 0.000000')\n",
            "('Epoch: 5/10...', 'Step: 39900...', 'Loss: 0.000000...', 'Val Loss: 0.000000')\n",
            "('Epoch: 5/10...', 'Step: 40000...', 'Loss: 0.000000...', 'Val Loss: 0.000000')\n",
            "('Epoch: 6/10...', 'Step: 40100...', 'Loss: 0.000000...', 'Val Loss: 0.000000')\n",
            "('Epoch: 6/10...', 'Step: 40200...', 'Loss: 0.000000...', 'Val Loss: 0.000000')\n",
            "('Epoch: 6/10...', 'Step: 40300...', 'Loss: 0.000000...', 'Val Loss: 0.000000')\n",
            "('Epoch: 6/10...', 'Step: 40400...', 'Loss: 0.000000...', 'Val Loss: 0.000000')\n",
            "('Epoch: 6/10...', 'Step: 40500...', 'Loss: 0.000000...', 'Val Loss: 0.000000')\n",
            "('Epoch: 6/10...', 'Step: 40600...', 'Loss: 0.000000...', 'Val Loss: 0.000000')\n",
            "('Epoch: 6/10...', 'Step: 40700...', 'Loss: 0.000000...', 'Val Loss: 0.000000')\n",
            "('Epoch: 6/10...', 'Step: 40800...', 'Loss: 0.000000...', 'Val Loss: 0.000000')\n",
            "('Epoch: 6/10...', 'Step: 40900...', 'Loss: 0.000000...', 'Val Loss: 0.000000')\n",
            "('Epoch: 6/10...', 'Step: 41000...', 'Loss: 0.000000...', 'Val Loss: 0.000000')\n",
            "('Epoch: 6/10...', 'Step: 41100...', 'Loss: 0.000000...', 'Val Loss: 0.000000')\n",
            "('Epoch: 6/10...', 'Step: 41200...', 'Loss: 0.000000...', 'Val Loss: 0.000000')\n",
            "('Epoch: 6/10...', 'Step: 41300...', 'Loss: 0.000000...', 'Val Loss: 0.000000')\n",
            "('Epoch: 6/10...', 'Step: 41400...', 'Loss: 0.000000...', 'Val Loss: 0.000000')\n",
            "('Epoch: 6/10...', 'Step: 41500...', 'Loss: 0.000000...', 'Val Loss: 0.000000')\n",
            "('Epoch: 6/10...', 'Step: 41600...', 'Loss: 0.000000...', 'Val Loss: 0.000000')\n",
            "('Epoch: 6/10...', 'Step: 41700...', 'Loss: 0.000000...', 'Val Loss: 0.000000')\n",
            "('Epoch: 6/10...', 'Step: 41800...', 'Loss: 0.000000...', 'Val Loss: 0.000000')\n",
            "('Epoch: 6/10...', 'Step: 41900...', 'Loss: 0.000000...', 'Val Loss: 0.000000')\n",
            "('Epoch: 6/10...', 'Step: 42000...', 'Loss: 0.000000...', 'Val Loss: 0.000000')\n",
            "('Epoch: 6/10...', 'Step: 42100...', 'Loss: 0.000000...', 'Val Loss: 0.000000')\n",
            "('Epoch: 6/10...', 'Step: 42200...', 'Loss: 0.000000...', 'Val Loss: 0.000000')\n",
            "('Epoch: 6/10...', 'Step: 42300...', 'Loss: 0.000000...', 'Val Loss: 0.000000')\n",
            "('Epoch: 6/10...', 'Step: 42400...', 'Loss: 0.000000...', 'Val Loss: 0.000000')\n",
            "('Epoch: 6/10...', 'Step: 42500...', 'Loss: 0.000000...', 'Val Loss: 0.000000')\n",
            "('Epoch: 6/10...', 'Step: 42600...', 'Loss: 0.000000...', 'Val Loss: 0.000000')\n",
            "('Epoch: 6/10...', 'Step: 42700...', 'Loss: 0.000000...', 'Val Loss: 0.000000')\n",
            "('Epoch: 6/10...', 'Step: 42800...', 'Loss: 0.000000...', 'Val Loss: 0.000000')\n",
            "('Epoch: 6/10...', 'Step: 42900...', 'Loss: 0.000000...', 'Val Loss: 0.000000')\n",
            "('Epoch: 6/10...', 'Step: 43000...', 'Loss: 0.000000...', 'Val Loss: 0.000000')\n",
            "('Epoch: 6/10...', 'Step: 43100...', 'Loss: 0.000000...', 'Val Loss: 0.000000')\n",
            "('Epoch: 6/10...', 'Step: 43200...', 'Loss: 0.000000...', 'Val Loss: 0.000000')\n",
            "('Epoch: 6/10...', 'Step: 43300...', 'Loss: 0.000000...', 'Val Loss: 0.000000')\n",
            "('Epoch: 6/10...', 'Step: 43400...', 'Loss: 0.000000...', 'Val Loss: 0.000000')\n",
            "('Epoch: 6/10...', 'Step: 43500...', 'Loss: 0.000000...', 'Val Loss: 0.000000')\n",
            "('Epoch: 6/10...', 'Step: 43600...', 'Loss: 0.000000...', 'Val Loss: 0.000000')\n",
            "('Epoch: 6/10...', 'Step: 43700...', 'Loss: 0.000000...', 'Val Loss: 0.000000')\n",
            "('Epoch: 6/10...', 'Step: 43800...', 'Loss: 0.000000...', 'Val Loss: 0.000000')\n",
            "('Epoch: 6/10...', 'Step: 43900...', 'Loss: 0.000000...', 'Val Loss: 0.000000')\n",
            "('Epoch: 6/10...', 'Step: 44000...', 'Loss: 0.000000...', 'Val Loss: 0.000000')\n",
            "('Epoch: 6/10...', 'Step: 44100...', 'Loss: 0.000000...', 'Val Loss: 0.000000')\n",
            "('Epoch: 6/10...', 'Step: 44200...', 'Loss: 0.000000...', 'Val Loss: 0.000000')\n",
            "('Epoch: 6/10...', 'Step: 44300...', 'Loss: 0.000000...', 'Val Loss: 0.000000')\n",
            "('Epoch: 6/10...', 'Step: 44400...', 'Loss: 0.000000...', 'Val Loss: 0.000000')\n",
            "('Epoch: 6/10...', 'Step: 44500...', 'Loss: 0.000000...', 'Val Loss: 0.000000')\n",
            "('Epoch: 6/10...', 'Step: 44600...', 'Loss: 0.000000...', 'Val Loss: 0.000000')\n",
            "('Epoch: 6/10...', 'Step: 44700...', 'Loss: 0.000000...', 'Val Loss: 0.000000')\n",
            "('Epoch: 6/10...', 'Step: 44800...', 'Loss: 0.000000...', 'Val Loss: 0.000000')\n",
            "('Epoch: 6/10...', 'Step: 44900...', 'Loss: 0.000000...', 'Val Loss: 0.000000')\n",
            "('Epoch: 6/10...', 'Step: 45000...', 'Loss: 0.000000...', 'Val Loss: 0.000000')\n",
            "('Epoch: 6/10...', 'Step: 45100...', 'Loss: 0.000000...', 'Val Loss: 0.000000')\n",
            "('Epoch: 6/10...', 'Step: 45200...', 'Loss: 0.000000...', 'Val Loss: 0.000000')\n",
            "('Epoch: 6/10...', 'Step: 45300...', 'Loss: 0.000000...', 'Val Loss: 0.000000')\n",
            "('Epoch: 6/10...', 'Step: 45400...', 'Loss: 0.000000...', 'Val Loss: 0.000000')\n",
            "('Epoch: 6/10...', 'Step: 45500...', 'Loss: 0.000000...', 'Val Loss: 0.000000')\n",
            "('Epoch: 6/10...', 'Step: 45600...', 'Loss: 0.000000...', 'Val Loss: 0.000000')\n",
            "('Epoch: 6/10...', 'Step: 45700...', 'Loss: 0.000000...', 'Val Loss: 0.000000')\n",
            "('Epoch: 6/10...', 'Step: 45800...', 'Loss: 0.000000...', 'Val Loss: 0.000000')\n",
            "('Epoch: 6/10...', 'Step: 45900...', 'Loss: 0.000000...', 'Val Loss: 0.000000')\n",
            "('Epoch: 6/10...', 'Step: 46000...', 'Loss: 0.000000...', 'Val Loss: 0.000000')\n",
            "('Epoch: 6/10...', 'Step: 46100...', 'Loss: 0.000000...', 'Val Loss: 0.000000')\n",
            "('Epoch: 6/10...', 'Step: 46200...', 'Loss: 0.000000...', 'Val Loss: 0.000000')\n",
            "('Epoch: 6/10...', 'Step: 46300...', 'Loss: 0.000000...', 'Val Loss: 0.000000')\n",
            "('Epoch: 6/10...', 'Step: 46400...', 'Loss: 0.000000...', 'Val Loss: 0.000000')\n",
            "('Epoch: 6/10...', 'Step: 46500...', 'Loss: 0.000000...', 'Val Loss: 0.000000')\n",
            "('Epoch: 6/10...', 'Step: 46600...', 'Loss: 0.000000...', 'Val Loss: 0.000000')\n",
            "('Epoch: 6/10...', 'Step: 46700...', 'Loss: 0.000000...', 'Val Loss: 0.000000')\n",
            "('Epoch: 6/10...', 'Step: 46800...', 'Loss: 0.000000...', 'Val Loss: 0.000000')\n",
            "('Epoch: 6/10...', 'Step: 46900...', 'Loss: 0.000000...', 'Val Loss: 0.000000')\n",
            "('Epoch: 6/10...', 'Step: 47000...', 'Loss: 0.000000...', 'Val Loss: 0.000000')\n",
            "('Epoch: 6/10...', 'Step: 47100...', 'Loss: 0.000000...', 'Val Loss: 0.000000')\n",
            "('Epoch: 6/10...', 'Step: 47200...', 'Loss: 0.000000...', 'Val Loss: 0.000000')\n",
            "('Epoch: 6/10...', 'Step: 47300...', 'Loss: 0.000000...', 'Val Loss: 0.000000')\n",
            "('Epoch: 6/10...', 'Step: 47400...', 'Loss: 0.000000...', 'Val Loss: 0.000000')\n",
            "('Epoch: 6/10...', 'Step: 47500...', 'Loss: 0.000000...', 'Val Loss: 0.000000')\n",
            "('Epoch: 6/10...', 'Step: 47600...', 'Loss: 0.000000...', 'Val Loss: 0.000000')\n",
            "('Epoch: 6/10...', 'Step: 47700...', 'Loss: 0.000000...', 'Val Loss: 0.000000')\n",
            "('Epoch: 6/10...', 'Step: 47800...', 'Loss: 0.000000...', 'Val Loss: 0.000000')\n",
            "('Epoch: 6/10...', 'Step: 47900...', 'Loss: 0.000000...', 'Val Loss: 0.000000')\n",
            "('Epoch: 6/10...', 'Step: 48000...', 'Loss: 0.000000...', 'Val Loss: 0.000000')\n",
            "('Epoch: 7/10...', 'Step: 48100...', 'Loss: 0.000000...', 'Val Loss: 0.000000')\n",
            "('Epoch: 7/10...', 'Step: 48200...', 'Loss: 0.000000...', 'Val Loss: 0.000000')\n",
            "('Epoch: 7/10...', 'Step: 48300...', 'Loss: 0.000000...', 'Val Loss: 0.000000')\n",
            "('Epoch: 7/10...', 'Step: 48400...', 'Loss: 0.000000...', 'Val Loss: 0.000000')\n",
            "('Epoch: 7/10...', 'Step: 48500...', 'Loss: 0.000000...', 'Val Loss: 0.000000')\n",
            "('Epoch: 7/10...', 'Step: 48600...', 'Loss: 0.000000...', 'Val Loss: 0.000000')\n",
            "('Epoch: 7/10...', 'Step: 48700...', 'Loss: 0.000000...', 'Val Loss: 0.000000')\n",
            "('Epoch: 7/10...', 'Step: 48800...', 'Loss: 0.000000...', 'Val Loss: 0.000000')\n",
            "('Epoch: 7/10...', 'Step: 48900...', 'Loss: 0.000000...', 'Val Loss: 0.000000')\n",
            "('Epoch: 7/10...', 'Step: 49000...', 'Loss: 0.000000...', 'Val Loss: 0.000000')\n",
            "('Epoch: 7/10...', 'Step: 49100...', 'Loss: 0.000000...', 'Val Loss: 0.000000')\n",
            "('Epoch: 7/10...', 'Step: 49200...', 'Loss: 0.000000...', 'Val Loss: 0.000000')\n",
            "('Epoch: 7/10...', 'Step: 49300...', 'Loss: 0.000000...', 'Val Loss: 0.000000')\n",
            "('Epoch: 7/10...', 'Step: 49400...', 'Loss: 0.000000...', 'Val Loss: 0.000000')\n",
            "('Epoch: 7/10...', 'Step: 49500...', 'Loss: 0.000000...', 'Val Loss: 0.000000')\n",
            "('Epoch: 7/10...', 'Step: 49600...', 'Loss: 0.000000...', 'Val Loss: 0.000000')\n",
            "('Epoch: 7/10...', 'Step: 49700...', 'Loss: 0.000000...', 'Val Loss: 0.000000')\n",
            "('Epoch: 7/10...', 'Step: 49800...', 'Loss: 0.000000...', 'Val Loss: 0.000000')\n",
            "('Epoch: 7/10...', 'Step: 49900...', 'Loss: 0.000000...', 'Val Loss: 0.000000')\n",
            "('Epoch: 7/10...', 'Step: 50000...', 'Loss: 0.000000...', 'Val Loss: 0.000000')\n",
            "('Epoch: 7/10...', 'Step: 50100...', 'Loss: 0.000000...', 'Val Loss: 0.000000')\n",
            "('Epoch: 7/10...', 'Step: 50200...', 'Loss: 0.000000...', 'Val Loss: 0.000000')\n",
            "('Epoch: 7/10...', 'Step: 50300...', 'Loss: 0.000000...', 'Val Loss: 0.000000')\n",
            "('Epoch: 7/10...', 'Step: 50400...', 'Loss: 0.000000...', 'Val Loss: 0.000000')\n",
            "('Epoch: 7/10...', 'Step: 50500...', 'Loss: 0.000000...', 'Val Loss: 0.000000')\n",
            "('Epoch: 7/10...', 'Step: 50600...', 'Loss: 0.000000...', 'Val Loss: 0.000000')\n",
            "('Epoch: 7/10...', 'Step: 50700...', 'Loss: 0.000000...', 'Val Loss: 0.000000')\n",
            "('Epoch: 7/10...', 'Step: 50800...', 'Loss: 0.000000...', 'Val Loss: 0.000000')\n",
            "('Epoch: 7/10...', 'Step: 50900...', 'Loss: 0.000000...', 'Val Loss: 0.000000')\n",
            "('Epoch: 7/10...', 'Step: 51000...', 'Loss: 0.000000...', 'Val Loss: 0.000000')\n",
            "('Epoch: 7/10...', 'Step: 51100...', 'Loss: 0.000000...', 'Val Loss: 0.000000')\n",
            "('Epoch: 7/10...', 'Step: 51200...', 'Loss: 0.000000...', 'Val Loss: 0.000000')\n",
            "('Epoch: 7/10...', 'Step: 51300...', 'Loss: 0.000000...', 'Val Loss: 0.000000')\n",
            "('Epoch: 7/10...', 'Step: 51400...', 'Loss: 0.000000...', 'Val Loss: 0.000000')\n",
            "('Epoch: 7/10...', 'Step: 51500...', 'Loss: 0.000000...', 'Val Loss: 0.000000')\n",
            "('Epoch: 7/10...', 'Step: 51600...', 'Loss: 0.000000...', 'Val Loss: 0.000000')\n",
            "('Epoch: 7/10...', 'Step: 51700...', 'Loss: 0.000000...', 'Val Loss: 0.000000')\n"
          ],
          "name": "stdout"
        }
      ]
    },
    {
      "cell_type": "markdown",
      "metadata": {
        "id": "nnjdkcWItNO7",
        "colab_type": "text"
      },
      "source": [
        "### Testing\n",
        "\n",
        "We'll see how our trained model performs on all of our defined test_data, above. We'll calculate the average loss and accuracy over the test data."
      ]
    },
    {
      "cell_type": "code",
      "metadata": {
        "pycharm": {
          "is_executing": false
        },
        "id": "WG5snn6wtNO9",
        "colab_type": "code",
        "colab": {}
      },
      "source": [
        "# Get test data loss and accuracy\n",
        "\n",
        "test_losses = [] # track loss\n",
        "num_correct = 0\n",
        "\n",
        "# init hidden state\n",
        "h = net.init_hidden(batch_size)\n",
        "\n",
        "net.eval()\n",
        "# iterate over test data\n",
        "for inputs, labels in test_loader:\n",
        "\n",
        "    # Creating new variables for the hidden state, otherwise\n",
        "    # we'd backprop through the entire training history\n",
        "    h = tuple([each.data for each in h])\n",
        "\n",
        "    if(train_on_gpu):\n",
        "        inputs, labels = inputs.cuda(), labels.cuda()\n",
        "    \n",
        "    # get predicted outputs\n",
        "    output, h = net(inputs, h)\n",
        "    \n",
        "    # calculate loss\n",
        "    test_loss = criterion(output.squeeze(), labels.float())\n",
        "    test_losses.append(test_loss.item())\n",
        "    \n",
        "    # convert output probabilities to predicted class (0 or 1)\n",
        "    pred = torch.round(output.squeeze())  # rounds to the nearest integer\n",
        "    \n",
        "    # compare predictions to true label\n",
        "    correct_tensor = pred.eq(labels.float().view_as(pred))\n",
        "    correct = np.squeeze(correct_tensor.numpy()) if not train_on_gpu else np.squeeze(correct_tensor.cpu().numpy())\n",
        "    num_correct += np.sum(correct)\n",
        "\n",
        "\n",
        "# -- stats! -- ##\n",
        "# avg test loss\n",
        "print(\"Test loss: {:.3f}\".format(np.mean(test_losses)))\n",
        "\n",
        "# accuracy over all test data\n",
        "test_acc = num_correct/len(test_loader.dataset)\n",
        "print(\"Test accuracy: {:.3f}\".format(test_acc))"
      ],
      "execution_count": 0,
      "outputs": []
    },
    {
      "cell_type": "markdown",
      "metadata": {
        "id": "u0ve-iNFtNO_",
        "colab_type": "text"
      },
      "source": [
        "---\n",
        "## Creating a predict function\n",
        "We'll write a predict function that takes in a trained net, a plain text_review, and a sequence length, and prints out a custom statement for a non-negative or negative review."
      ]
    },
    {
      "cell_type": "code",
      "metadata": {
        "pycharm": {
          "is_executing": false
        },
        "id": "qCQWfrkjtNPB",
        "colab_type": "code",
        "colab": {}
      },
      "source": [
        "# negative test review\n",
        "test_review = \"@AmericanAir you have my money, you change my flight, and don't answer your phones! Any other suggestions so I can make my commitment??\""
      ],
      "execution_count": 0,
      "outputs": []
    },
    {
      "cell_type": "code",
      "metadata": {
        "pycharm": {
          "is_executing": false
        },
        "id": "XvV4wmMntNPD",
        "colab_type": "code",
        "colab": {}
      },
      "source": [
        "def tokenize_review(test_review):\n",
        "    test_review = test_review.lower() # lowercase\n",
        "    # get rid of punctuation\n",
        "    test_text = ''.join([c for c in test_review if c not in punctuation])\n",
        "\n",
        "    # splitting by spaces\n",
        "    test_words = test_text.split()\n",
        "    \n",
        "    # get rid of web address, twitter id, and digit\n",
        "    new_text = []\n",
        "    for word in test_words:\n",
        "        if (word[0] != '@') & ('http' not in word) & (~word.isdigit()):\n",
        "            new_text.append(word)\n",
        "\n",
        "    # tokens\n",
        "    test_ints = []\n",
        "    test_ints.append([vocab_to_int[word] for word in new_text])\n",
        "\n",
        "    return test_ints\n",
        "\n",
        "# test code and generate tokenized review\n",
        "test_ints = tokenize_review(test_review)\n",
        "print(test_ints)"
      ],
      "execution_count": 0,
      "outputs": []
    },
    {
      "cell_type": "code",
      "metadata": {
        "pycharm": {
          "is_executing": false
        },
        "id": "wjzbletUtNPE",
        "colab_type": "code",
        "colab": {}
      },
      "source": [
        "# test sequence padding\n",
        "seq_length=30\n",
        "features = pad_features(test_ints, seq_length)\n",
        "\n",
        "print(features)"
      ],
      "execution_count": 0,
      "outputs": []
    },
    {
      "cell_type": "code",
      "metadata": {
        "pycharm": {
          "is_executing": false
        },
        "id": "0sHmKIPktNPH",
        "colab_type": "code",
        "colab": {}
      },
      "source": [
        "# test conversion to tensor and pass into your model\n",
        "feature_tensor = torch.from_numpy(features)\n",
        "print(feature_tensor.size())"
      ],
      "execution_count": 0,
      "outputs": []
    },
    {
      "cell_type": "code",
      "metadata": {
        "pycharm": {
          "is_executing": false
        },
        "id": "KIzjEAsytNPJ",
        "colab_type": "code",
        "colab": {}
      },
      "source": [
        "def predict(net, test_review, sequence_length=30):\n",
        "    \n",
        "    net.eval()\n",
        "    \n",
        "    # tokenize review\n",
        "    test_ints = tokenize_review(test_review)\n",
        "    \n",
        "    # pad tokenized sequence\n",
        "    seq_length=sequence_length\n",
        "    features = pad_features(test_ints, seq_length)\n",
        "    \n",
        "    # convert to tensor to pass into your model\n",
        "    feature_tensor = torch.from_numpy(features)\n",
        "    \n",
        "    batch_size = feature_tensor.size(0)\n",
        "    \n",
        "    # initialize hidden state\n",
        "    h = net.init_hidden(batch_size)\n",
        "    \n",
        "    if(train_on_gpu):\n",
        "        feature_tensor = feature_tensor.cuda()\n",
        "    \n",
        "    # get the output from the model\n",
        "    output, h = net(feature_tensor, h)\n",
        "    \n",
        "    # convert output probabilities to predicted class (0 or 1)\n",
        "    pred = torch.round(output.squeeze()) \n",
        "    # printing output value, before rounding\n",
        "    print('Prediction value, pre-rounding: {:.6f}'.format(output.item()))\n",
        "    \n",
        "    # print custom response\n",
        "    if(pred.item()==1):\n",
        "        print(\"Non-negative review detected.\")\n",
        "    else:\n",
        "        print(\"Negative review detected.\")\n",
        "        "
      ],
      "execution_count": 0,
      "outputs": []
    },
    {
      "cell_type": "code",
      "metadata": {
        "pycharm": {
          "is_executing": false
        },
        "id": "x8YVo2pBtNPK",
        "colab_type": "code",
        "colab": {}
      },
      "source": [
        "seq_length = 30 # good to use the length that was trained on"
      ],
      "execution_count": 0,
      "outputs": []
    },
    {
      "cell_type": "code",
      "metadata": {
        "pycharm": {
          "is_executing": false
        },
        "id": "AO7mCppWtNPM",
        "colab_type": "code",
        "colab": {}
      },
      "source": [
        "# call function on negative review\n",
        "test_review_neg = \"@AmericanAir you have my money, you change my flight, and don't answer your phones! Any other suggestions so I can make my commitment??\"\n",
        "predict(net, test_review_neg, seq_length)"
      ],
      "execution_count": 0,
      "outputs": []
    },
    {
      "cell_type": "code",
      "metadata": {
        "pycharm": {
          "is_executing": false
        },
        "id": "sqfm9KUEtNPQ",
        "colab_type": "code",
        "colab": {}
      },
      "source": [
        "# call function on positive review\n",
        "test_review_pos = \"@AmericanAir thank you we got on a different flight to Chicago.\"\n",
        "predict(net, test_review_pos, seq_length)"
      ],
      "execution_count": 0,
      "outputs": []
    },
    {
      "cell_type": "code",
      "metadata": {
        "pycharm": {
          "is_executing": false
        },
        "id": "NwYR1Ui5tNPS",
        "colab_type": "code",
        "colab": {}
      },
      "source": [
        "# call function on neutral review\n",
        "test_review_neu = \"@AmericanAir i need someone to help me out\"\n",
        "predict(net, test_review_neu, seq_length)"
      ],
      "execution_count": 0,
      "outputs": []
    },
    {
      "cell_type": "markdown",
      "metadata": {
        "id": "kdZF6dPCtNPU",
        "colab_type": "text"
      },
      "source": [
        "--- \n",
        "## Summary"
      ]
    },
    {
      "cell_type": "markdown",
      "metadata": {
        "id": "13Mb0n5KtNPU",
        "colab_type": "text"
      },
      "source": [
        "Now that we have a trained model and a predict function, you can pass in _any_ kind of text and this model will predict whether the text has a positive or negative sentiment."
      ]
    },
    {
      "cell_type": "code",
      "metadata": {
        "pycharm": {
          "is_executing": false
        },
        "id": "MHqyMXAOtNPV",
        "colab_type": "code",
        "colab": {}
      },
      "source": [
        ""
      ],
      "execution_count": 0,
      "outputs": []
    },
    {
      "cell_type": "code",
      "metadata": {
        "pycharm": {
          "is_executing": false
        },
        "id": "BhQmvKAqtNPW",
        "colab_type": "code",
        "colab": {}
      },
      "source": [
        ""
      ],
      "execution_count": 0,
      "outputs": []
    },
    {
      "cell_type": "code",
      "metadata": {
        "pycharm": {
          "is_executing": false
        },
        "id": "U_IHGwBftNPY",
        "colab_type": "code",
        "colab": {}
      },
      "source": [
        ""
      ],
      "execution_count": 0,
      "outputs": []
    }
  ]
}